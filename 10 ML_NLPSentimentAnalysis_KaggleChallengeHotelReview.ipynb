{
 "cells": [
  {
   "cell_type": "markdown",
   "metadata": {},
   "source": [
    "# # Project: NLP to Analyze Sentiments of Consumer Reviews of Hotels    \n",
    "\n",
    "In this project, we use Sentiment Analysis of NLP to analyze reviews of hotels. We would like to understand if a review is positive or negative (without looking at the ratings). We will use the following libraries:\n",
    "- NLTK: the most famous python module for NLP techniques\n",
    "- Gensim: a topic-modelling and vector space modelling toolkit\n",
    "- Scikit-learn: the most used python machine learning library\n",
    "\n",
    "The dataset is from Kaggle and contains 515,000 customer reviews and scoring of 1493 luxury hotels offered in Booking.come across Europe.\n",
    "The dataset can be found here: https://www.kaggle.com/jiashenliu/515k-hotel-reviews-data-in-europe/version/1"
   ]
  },
  {
   "cell_type": "code",
   "execution_count": 118,
   "metadata": {},
   "outputs": [],
   "source": [
    "import pandas as pd\n",
    "import matplotlib.pyplot as plt\n",
    "from sklearn.model_selection import train_test_split"
   ]
  },
  {
   "cell_type": "markdown",
   "metadata": {},
   "source": [
    "## Part 1: Load and Select the Data "
   ]
  },
  {
   "cell_type": "code",
   "execution_count": 119,
   "metadata": {
    "ExecuteTime": {
     "end_time": "2018-09-14T14:51:21.351977Z",
     "start_time": "2018-09-14T14:51:21.349551Z"
    },
    "scrolled": true
   },
   "outputs": [
    {
     "name": "stdout",
     "output_type": "stream",
     "text": [
      "<class 'pandas.core.frame.DataFrame'>\n",
      "RangeIndex: 515738 entries, 0 to 515737\n",
      "Data columns (total 17 columns):\n",
      "Hotel_Address                                 515738 non-null object\n",
      "Additional_Number_of_Scoring                  515738 non-null int64\n",
      "Review_Date                                   515738 non-null object\n",
      "Average_Score                                 515738 non-null float64\n",
      "Hotel_Name                                    515738 non-null object\n",
      "Reviewer_Nationality                          515738 non-null object\n",
      "Negative_Review                               515738 non-null object\n",
      "Review_Total_Negative_Word_Counts             515738 non-null int64\n",
      "Total_Number_of_Reviews                       515738 non-null int64\n",
      "Positive_Review                               515738 non-null object\n",
      "Review_Total_Positive_Word_Counts             515738 non-null int64\n",
      "Total_Number_of_Reviews_Reviewer_Has_Given    515738 non-null int64\n",
      "Reviewer_Score                                515738 non-null float64\n",
      "Tags                                          515738 non-null object\n",
      "days_since_review                             515738 non-null object\n",
      "lat                                           512470 non-null float64\n",
      "lng                                           512470 non-null float64\n",
      "dtypes: float64(4), int64(5), object(8)\n",
      "memory usage: 66.9+ MB\n"
     ]
    }
   ],
   "source": [
    "# load the data into a datadrame\n",
    "reviews = pd.read_csv('/Users/Amir/PythonProjects/HotelRRDataset/Hotel_Reviews.csv')\n",
    "reviews.info()\n",
    "\n",
    "# append positive and negative reviews to have all in one column (in booking, there is two entires for \n",
    "# consumers to write positive and negative comments)\n",
    "reviews[\"Review\"] = reviews[\"Negative_Review\"] + reviews[\"Positive_Review\"]\n",
    "\n",
    "# we define a bad review as the one which has overall rating of lower than 5. We label them using actual ratings \n",
    "# to compare them to our predicion to evaluate the performance \n",
    "reviews[\"Bad_Review?\"] = reviews[\"Reviewer_Score\"].apply(lambda x: 1 if x < 5 else 0)"
   ]
  },
  {
   "cell_type": "code",
   "execution_count": 120,
   "metadata": {},
   "outputs": [
    {
     "data": {
      "text/html": [
       "<div>\n",
       "<style scoped>\n",
       "    .dataframe tbody tr th:only-of-type {\n",
       "        vertical-align: middle;\n",
       "    }\n",
       "\n",
       "    .dataframe tbody tr th {\n",
       "        vertical-align: top;\n",
       "    }\n",
       "\n",
       "    .dataframe thead th {\n",
       "        text-align: right;\n",
       "    }\n",
       "</style>\n",
       "<table border=\"1\" class=\"dataframe\">\n",
       "  <thead>\n",
       "    <tr style=\"text-align: right;\">\n",
       "      <th></th>\n",
       "      <th>Review</th>\n",
       "      <th>Bad_Review?</th>\n",
       "    </tr>\n",
       "  </thead>\n",
       "  <tbody>\n",
       "    <tr>\n",
       "      <th>0</th>\n",
       "      <td>I am so angry that i made this post available...</td>\n",
       "      <td>1</td>\n",
       "    </tr>\n",
       "    <tr>\n",
       "      <th>1</th>\n",
       "      <td>No Negative No real complaints the hotel was g...</td>\n",
       "      <td>0</td>\n",
       "    </tr>\n",
       "    <tr>\n",
       "      <th>2</th>\n",
       "      <td>Rooms are nice but for elderly a bit difficul...</td>\n",
       "      <td>0</td>\n",
       "    </tr>\n",
       "    <tr>\n",
       "      <th>3</th>\n",
       "      <td>My room was dirty and I was afraid to walk ba...</td>\n",
       "      <td>1</td>\n",
       "    </tr>\n",
       "    <tr>\n",
       "      <th>4</th>\n",
       "      <td>You When I booked with your company on line y...</td>\n",
       "      <td>0</td>\n",
       "    </tr>\n",
       "    <tr>\n",
       "      <th>5</th>\n",
       "      <td>Backyard of the hotel is total mess shouldn t...</td>\n",
       "      <td>0</td>\n",
       "    </tr>\n",
       "    <tr>\n",
       "      <th>6</th>\n",
       "      <td>Cleaner did not change our sheet and duvet ev...</td>\n",
       "      <td>1</td>\n",
       "    </tr>\n",
       "    <tr>\n",
       "      <th>7</th>\n",
       "      <td>Apart from the price for the brekfast Everyth...</td>\n",
       "      <td>0</td>\n",
       "    </tr>\n",
       "    <tr>\n",
       "      <th>8</th>\n",
       "      <td>Even though the pictures show very clean room...</td>\n",
       "      <td>0</td>\n",
       "    </tr>\n",
       "    <tr>\n",
       "      <th>9</th>\n",
       "      <td>The aircondition makes so much noise and its ...</td>\n",
       "      <td>0</td>\n",
       "    </tr>\n",
       "  </tbody>\n",
       "</table>\n",
       "</div>"
      ],
      "text/plain": [
       "                                              Review  Bad_Review?\n",
       "0   I am so angry that i made this post available...            1\n",
       "1  No Negative No real complaints the hotel was g...            0\n",
       "2   Rooms are nice but for elderly a bit difficul...            0\n",
       "3   My room was dirty and I was afraid to walk ba...            1\n",
       "4   You When I booked with your company on line y...            0\n",
       "5   Backyard of the hotel is total mess shouldn t...            0\n",
       "6   Cleaner did not change our sheet and duvet ev...            1\n",
       "7   Apart from the price for the brekfast Everyth...            0\n",
       "8   Even though the pictures show very clean room...            0\n",
       "9   The aircondition makes so much noise and its ...            0"
      ]
     },
     "execution_count": 120,
     "metadata": {},
     "output_type": "execute_result"
    }
   ],
   "source": [
    "# Select only the relevant data for Sentiment Analysis\n",
    "reviews_SA = reviews[[\"Review\",\"Bad_Review?\"]]\n",
    "reviews_SA.head(10)"
   ]
  },
  {
   "cell_type": "code",
   "execution_count": 121,
   "metadata": {},
   "outputs": [],
   "source": [
    "# Sample some data to increase the computation speed\n",
    "# sample 10% of the data \n",
    "reviews_SA = reviews_SA.sample(frac = 0.001, replace = False, random_state=42)"
   ]
  },
  {
   "cell_type": "code",
   "execution_count": 122,
   "metadata": {},
   "outputs": [
    {
     "data": {
      "text/html": [
       "<div>\n",
       "<style scoped>\n",
       "    .dataframe tbody tr th:only-of-type {\n",
       "        vertical-align: middle;\n",
       "    }\n",
       "\n",
       "    .dataframe tbody tr th {\n",
       "        vertical-align: top;\n",
       "    }\n",
       "\n",
       "    .dataframe thead th {\n",
       "        text-align: right;\n",
       "    }\n",
       "</style>\n",
       "<table border=\"1\" class=\"dataframe\">\n",
       "  <thead>\n",
       "    <tr style=\"text-align: right;\">\n",
       "      <th></th>\n",
       "      <th>Review</th>\n",
       "      <th>Bad_Review?</th>\n",
       "    </tr>\n",
       "  </thead>\n",
       "  <tbody>\n",
       "    <tr>\n",
       "      <th>488440</th>\n",
       "      <td>Would have appreciated a shop in the hotel th...</td>\n",
       "      <td>0</td>\n",
       "    </tr>\n",
       "    <tr>\n",
       "      <th>274649</th>\n",
       "      <td>No tissue paper box was present at the room</td>\n",
       "      <td>0</td>\n",
       "    </tr>\n",
       "    <tr>\n",
       "      <th>374688</th>\n",
       "      <td>Pillows  Nice welcoming and service</td>\n",
       "      <td>0</td>\n",
       "    </tr>\n",
       "    <tr>\n",
       "      <th>404352</th>\n",
       "      <td>Everything including the nice upgrade The Hot...</td>\n",
       "      <td>0</td>\n",
       "    </tr>\n",
       "    <tr>\n",
       "      <th>451596</th>\n",
       "      <td>Lovely hotel v welcoming staff</td>\n",
       "      <td>0</td>\n",
       "    </tr>\n",
       "    <tr>\n",
       "      <th>302161</th>\n",
       "      <td>They don t have free wifi The location is per...</td>\n",
       "      <td>0</td>\n",
       "    </tr>\n",
       "    <tr>\n",
       "      <th>317079</th>\n",
       "      <td>Room generally a bit shabby with some lack of...</td>\n",
       "      <td>0</td>\n",
       "    </tr>\n",
       "    <tr>\n",
       "      <th>13963</th>\n",
       "      <td>Executive rooms 9th Floor don t have a bath T...</td>\n",
       "      <td>0</td>\n",
       "    </tr>\n",
       "    <tr>\n",
       "      <th>159785</th>\n",
       "      <td>Pity about the two days of rain Its centralit...</td>\n",
       "      <td>0</td>\n",
       "    </tr>\n",
       "    <tr>\n",
       "      <th>195089</th>\n",
       "      <td>Didn t like it at all construction was in pro...</td>\n",
       "      <td>1</td>\n",
       "    </tr>\n",
       "  </tbody>\n",
       "</table>\n",
       "</div>"
      ],
      "text/plain": [
       "                                                   Review  Bad_Review?\n",
       "488440   Would have appreciated a shop in the hotel th...            0\n",
       "274649        No tissue paper box was present at the room            0\n",
       "374688                Pillows  Nice welcoming and service            0\n",
       "404352   Everything including the nice upgrade The Hot...            0\n",
       "451596                    Lovely hotel v welcoming staff             0\n",
       "302161   They don t have free wifi The location is per...            0\n",
       "317079   Room generally a bit shabby with some lack of...            0\n",
       "13963    Executive rooms 9th Floor don t have a bath T...            0\n",
       "159785   Pity about the two days of rain Its centralit...            0\n",
       "195089   Didn t like it at all construction was in pro...            1"
      ]
     },
     "execution_count": 122,
     "metadata": {},
     "output_type": "execute_result"
    }
   ],
   "source": [
    "# Clean-up\n",
    "# based on the data spec, if the reviewer does not give the negative or positive review, \n",
    "# the associated column will 'No Negative' and 'No Positive'. We need to remove them\n",
    "# ro turn off the chain warning \n",
    "pd.options.mode.chained_assignment = None\n",
    "reviews_SA[\"Review\"] = reviews_SA[\"Review\"].apply(lambda x: x.replace('No Negative','').replace('No Positive',''))\n",
    "# see row two for an example \n",
    "reviews_SA.head(10)"
   ]
  },
  {
   "cell_type": "markdown",
   "metadata": {},
   "source": [
    "## Part 2: Text Preprocessing\n",
    "Since, text is the most unstructured form of all the available data, various types of noise are present in it and the data is not readily analyzable without any pre-processing. The entire process of cleaning and standardization of text, making it noise-free and ready for analysis is known as text preprocessing."
   ]
  },
  {
   "cell_type": "code",
   "execution_count": 131,
   "metadata": {
    "scrolled": true
   },
   "outputs": [
    {
     "name": "stderr",
     "output_type": "stream",
     "text": [
      "[nltk_data] Downloading package vader_lexicon to\n",
      "[nltk_data]     /Users/Amir/nltk_data...\n"
     ]
    },
    {
     "data": {
      "text/plain": [
       "True"
      ]
     },
     "execution_count": 131,
     "metadata": {},
     "output_type": "execute_result"
    }
   ],
   "source": [
    "# Import required libraries \n",
    "import nltk\n",
    "# FOR THE FIRST TIME, RUN ALL ABOVE CODE TO MAKE SURE YOU HAVE NECCESSARY NLTK MODULES\n",
    "# nltk.download('averaged_perceptron_tagger')\n",
    "# nltk.download('wordnet')\n",
    "# nltk.download('vader_lexicon')"
   ]
  },
  {
   "cell_type": "markdown",
   "metadata": {},
   "source": [
    "## Part 2A: Lower the Text"
   ]
  },
  {
   "cell_type": "code",
   "execution_count": 124,
   "metadata": {},
   "outputs": [
    {
     "data": {
      "text/html": [
       "<div>\n",
       "<style scoped>\n",
       "    .dataframe tbody tr th:only-of-type {\n",
       "        vertical-align: middle;\n",
       "    }\n",
       "\n",
       "    .dataframe tbody tr th {\n",
       "        vertical-align: top;\n",
       "    }\n",
       "\n",
       "    .dataframe thead th {\n",
       "        text-align: right;\n",
       "    }\n",
       "</style>\n",
       "<table border=\"1\" class=\"dataframe\">\n",
       "  <thead>\n",
       "    <tr style=\"text-align: right;\">\n",
       "      <th></th>\n",
       "      <th>Review</th>\n",
       "      <th>Bad_Review?</th>\n",
       "    </tr>\n",
       "  </thead>\n",
       "  <tbody>\n",
       "    <tr>\n",
       "      <th>488440</th>\n",
       "      <td>would have appreciated a shop in the hotel th...</td>\n",
       "      <td>0</td>\n",
       "    </tr>\n",
       "    <tr>\n",
       "      <th>274649</th>\n",
       "      <td>no tissue paper box was present at the room</td>\n",
       "      <td>0</td>\n",
       "    </tr>\n",
       "    <tr>\n",
       "      <th>374688</th>\n",
       "      <td>pillows  nice welcoming and service</td>\n",
       "      <td>0</td>\n",
       "    </tr>\n",
       "  </tbody>\n",
       "</table>\n",
       "</div>"
      ],
      "text/plain": [
       "                                                   Review  Bad_Review?\n",
       "488440   would have appreciated a shop in the hotel th...            0\n",
       "274649        no tissue paper box was present at the room            0\n",
       "374688                pillows  nice welcoming and service            0"
      ]
     },
     "execution_count": 124,
     "metadata": {},
     "output_type": "execute_result"
    }
   ],
   "source": [
    "# lower text\n",
    "def text_low(text):\n",
    "    text = text.lower()\n",
    "    return text \n",
    "reviews_SA[\"Review\"] = reviews_SA[\"Review\"].apply(lambda x: text_low(x))\n",
    "reviews_SA.head(3)"
   ]
  },
  {
   "cell_type": "markdown",
   "metadata": {},
   "source": [
    "## Part 2B: Tokenize\n",
    "Tokenize the text (split the text into words) and remove the punctuation"
   ]
  },
  {
   "cell_type": "code",
   "execution_count": 125,
   "metadata": {},
   "outputs": [
    {
     "data": {
      "text/html": [
       "<div>\n",
       "<style scoped>\n",
       "    .dataframe tbody tr th:only-of-type {\n",
       "        vertical-align: middle;\n",
       "    }\n",
       "\n",
       "    .dataframe tbody tr th {\n",
       "        vertical-align: top;\n",
       "    }\n",
       "\n",
       "    .dataframe thead th {\n",
       "        text-align: right;\n",
       "    }\n",
       "</style>\n",
       "<table border=\"1\" class=\"dataframe\">\n",
       "  <thead>\n",
       "    <tr style=\"text-align: right;\">\n",
       "      <th></th>\n",
       "      <th>Review</th>\n",
       "      <th>Bad_Review?</th>\n",
       "    </tr>\n",
       "  </thead>\n",
       "  <tbody>\n",
       "    <tr>\n",
       "      <th>488440</th>\n",
       "      <td>[, would, have, appreciated, a, shop, in, the,...</td>\n",
       "      <td>0</td>\n",
       "    </tr>\n",
       "    <tr>\n",
       "      <th>274649</th>\n",
       "      <td>[, no, tissue, paper, box, was, present, at, t...</td>\n",
       "      <td>0</td>\n",
       "    </tr>\n",
       "    <tr>\n",
       "      <th>374688</th>\n",
       "      <td>[, pillows, , nice, welcoming, and, service]</td>\n",
       "      <td>0</td>\n",
       "    </tr>\n",
       "  </tbody>\n",
       "</table>\n",
       "</div>"
      ],
      "text/plain": [
       "                                                   Review  Bad_Review?\n",
       "488440  [, would, have, appreciated, a, shop, in, the,...            0\n",
       "274649  [, no, tissue, paper, box, was, present, at, t...            0\n",
       "374688       [, pillows, , nice, welcoming, and, service]            0"
      ]
     },
     "execution_count": 125,
     "metadata": {},
     "output_type": "execute_result"
    }
   ],
   "source": [
    "# tokenize text and remove puncutation\n",
    "from nltk.tokenize import WhitespaceTokenizer\n",
    "import string\n",
    "def text_tok(text):\n",
    "    text = [word.strip(string.punctuation) for word in text.split(\" \")]\n",
    "    return text\n",
    "\n",
    "reviews_SA[\"Review\"] = reviews_SA[\"Review\"].apply(lambda x: text_tok(x))\n",
    "reviews_SA.head(3)\n"
   ]
  },
  {
   "cell_type": "markdown",
   "metadata": {},
   "source": [
    "## Part 2C: Noise Removal\n",
    "Remove all common words, stopwords, numbers, etc. "
   ]
  },
  {
   "cell_type": "code",
   "execution_count": 126,
   "metadata": {},
   "outputs": [
    {
     "data": {
      "text/html": [
       "<div>\n",
       "<style scoped>\n",
       "    .dataframe tbody tr th:only-of-type {\n",
       "        vertical-align: middle;\n",
       "    }\n",
       "\n",
       "    .dataframe tbody tr th {\n",
       "        vertical-align: top;\n",
       "    }\n",
       "\n",
       "    .dataframe thead th {\n",
       "        text-align: right;\n",
       "    }\n",
       "</style>\n",
       "<table border=\"1\" class=\"dataframe\">\n",
       "  <thead>\n",
       "    <tr style=\"text-align: right;\">\n",
       "      <th></th>\n",
       "      <th>Review</th>\n",
       "      <th>Bad_Review?</th>\n",
       "    </tr>\n",
       "  </thead>\n",
       "  <tbody>\n",
       "    <tr>\n",
       "      <th>488440</th>\n",
       "      <td>[would, appreciated, shop, hotel, sold, drinki...</td>\n",
       "      <td>0</td>\n",
       "    </tr>\n",
       "    <tr>\n",
       "      <th>274649</th>\n",
       "      <td>[tissue, paper, box, present, room]</td>\n",
       "      <td>0</td>\n",
       "    </tr>\n",
       "    <tr>\n",
       "      <th>374688</th>\n",
       "      <td>[pillows, nice, welcoming, service]</td>\n",
       "      <td>0</td>\n",
       "    </tr>\n",
       "  </tbody>\n",
       "</table>\n",
       "</div>"
      ],
      "text/plain": [
       "                                                   Review  Bad_Review?\n",
       "488440  [would, appreciated, shop, hotel, sold, drinki...            0\n",
       "274649                [tissue, paper, box, present, room]            0\n",
       "374688                [pillows, nice, welcoming, service]            0"
      ]
     },
     "execution_count": 126,
     "metadata": {},
     "output_type": "execute_result"
    }
   ],
   "source": [
    "from nltk.corpus import stopwords\n",
    "def text_noise(text):\n",
    "    # remove words that contain numbers\n",
    "    text = [word for word in text if not any(c.isdigit() for c in word)]\n",
    "    # remove useless stop words like 'the', 'a' ,'this' etc.\n",
    "    stop = stopwords.words('english')\n",
    "    text = [x for x in text if x not in stop]\n",
    "    # remove empty tokens\n",
    "    text = [t for t in text if len(t) > 0]\n",
    "    return text \n",
    "\n",
    "reviews_SA[\"Review\"] = reviews_SA[\"Review\"].apply(lambda x: text_noise(x))\n",
    "reviews_SA.head(3)"
   ]
  },
  {
   "cell_type": "markdown",
   "metadata": {},
   "source": [
    "## Part 2D: POS Tagging\n",
    "Part-Of-Speech (POS) tagging: assign a tag to every word to define if it corresponds to a noun, a verb etc. using the WordNet lexical database"
   ]
  },
  {
   "cell_type": "code",
   "execution_count": 127,
   "metadata": {},
   "outputs": [
    {
     "data": {
      "text/html": [
       "<div>\n",
       "<style scoped>\n",
       "    .dataframe tbody tr th:only-of-type {\n",
       "        vertical-align: middle;\n",
       "    }\n",
       "\n",
       "    .dataframe tbody tr th {\n",
       "        vertical-align: top;\n",
       "    }\n",
       "\n",
       "    .dataframe thead th {\n",
       "        text-align: right;\n",
       "    }\n",
       "</style>\n",
       "<table border=\"1\" class=\"dataframe\">\n",
       "  <thead>\n",
       "    <tr style=\"text-align: right;\">\n",
       "      <th></th>\n",
       "      <th>Review</th>\n",
       "      <th>Bad_Review?</th>\n",
       "    </tr>\n",
       "  </thead>\n",
       "  <tbody>\n",
       "    <tr>\n",
       "      <th>488440</th>\n",
       "      <td>[(would, MD), (appreciated, VBD), (shop, VB), ...</td>\n",
       "      <td>0</td>\n",
       "    </tr>\n",
       "    <tr>\n",
       "      <th>274649</th>\n",
       "      <td>[(tissue, NN), (paper, NN), (box, NN), (presen...</td>\n",
       "      <td>0</td>\n",
       "    </tr>\n",
       "    <tr>\n",
       "      <th>374688</th>\n",
       "      <td>[(pillows, NNS), (nice, JJ), (welcoming, VBG),...</td>\n",
       "      <td>0</td>\n",
       "    </tr>\n",
       "  </tbody>\n",
       "</table>\n",
       "</div>"
      ],
      "text/plain": [
       "                                                   Review  Bad_Review?\n",
       "488440  [(would, MD), (appreciated, VBD), (shop, VB), ...            0\n",
       "274649  [(tissue, NN), (paper, NN), (box, NN), (presen...            0\n",
       "374688  [(pillows, NNS), (nice, JJ), (welcoming, VBG),...            0"
      ]
     },
     "execution_count": 127,
     "metadata": {},
     "output_type": "execute_result"
    }
   ],
   "source": [
    "from nltk import pos_tag\n",
    "def text_pos(text):\n",
    "    text = pos_tag(text)\n",
    "    return text\n",
    "reviews_SA[\"Review\"] = reviews_SA[\"Review\"].apply(lambda x: text_pos(x))\n",
    "reviews_SA.head(3)"
   ]
  },
  {
   "cell_type": "markdown",
   "metadata": {},
   "source": [
    "## Part 2E: Lemmatize \n",
    "Lemmatization is an organized & step by step procedure of obtaining the root form of the word (e.g. rooms -> room, slept -> sleep). It makes use of vocabulary (dictionary importance of words) and morphological analysis (word structure and grammar relations)."
   ]
  },
  {
   "cell_type": "code",
   "execution_count": 128,
   "metadata": {},
   "outputs": [
    {
     "data": {
      "text/html": [
       "<div>\n",
       "<style scoped>\n",
       "    .dataframe tbody tr th:only-of-type {\n",
       "        vertical-align: middle;\n",
       "    }\n",
       "\n",
       "    .dataframe tbody tr th {\n",
       "        vertical-align: top;\n",
       "    }\n",
       "\n",
       "    .dataframe thead th {\n",
       "        text-align: right;\n",
       "    }\n",
       "</style>\n",
       "<table border=\"1\" class=\"dataframe\">\n",
       "  <thead>\n",
       "    <tr style=\"text-align: right;\">\n",
       "      <th></th>\n",
       "      <th>Review</th>\n",
       "      <th>Bad_Review?</th>\n",
       "    </tr>\n",
       "  </thead>\n",
       "  <tbody>\n",
       "    <tr>\n",
       "      <th>488440</th>\n",
       "      <td>[would, appreciate, shop, hotel, sell, drinkin...</td>\n",
       "      <td>0</td>\n",
       "    </tr>\n",
       "    <tr>\n",
       "      <th>274649</th>\n",
       "      <td>[tissue, paper, box, present, room]</td>\n",
       "      <td>0</td>\n",
       "    </tr>\n",
       "    <tr>\n",
       "      <th>374688</th>\n",
       "      <td>[pillow, nice, welcome, service]</td>\n",
       "      <td>0</td>\n",
       "    </tr>\n",
       "    <tr>\n",
       "      <th>404352</th>\n",
       "      <td>[everything, include, nice, upgrade, hotel, re...</td>\n",
       "      <td>0</td>\n",
       "    </tr>\n",
       "    <tr>\n",
       "      <th>451596</th>\n",
       "      <td>[lovely, hotel, v, welcome, staff]</td>\n",
       "      <td>0</td>\n",
       "    </tr>\n",
       "    <tr>\n",
       "      <th>302161</th>\n",
       "      <td>[free, wifi, location, perfect, lot, time, wan...</td>\n",
       "      <td>0</td>\n",
       "    </tr>\n",
       "    <tr>\n",
       "      <th>317079</th>\n",
       "      <td>[room, generally, bit, shabby, lack, maintenan...</td>\n",
       "      <td>0</td>\n",
       "    </tr>\n",
       "    <tr>\n",
       "      <th>13963</th>\n",
       "      <td>[executive, room, floor, bath, website, make, ...</td>\n",
       "      <td>0</td>\n",
       "    </tr>\n",
       "    <tr>\n",
       "      <th>159785</th>\n",
       "      <td>[pity, two, day, rain, centrality, proximity, ...</td>\n",
       "      <td>0</td>\n",
       "    </tr>\n",
       "    <tr>\n",
       "      <th>195089</th>\n",
       "      <td>[like, construction, progress, stuff, lie, u, ...</td>\n",
       "      <td>1</td>\n",
       "    </tr>\n",
       "  </tbody>\n",
       "</table>\n",
       "</div>"
      ],
      "text/plain": [
       "                                                   Review  Bad_Review?\n",
       "488440  [would, appreciate, shop, hotel, sell, drinkin...            0\n",
       "274649                [tissue, paper, box, present, room]            0\n",
       "374688                   [pillow, nice, welcome, service]            0\n",
       "404352  [everything, include, nice, upgrade, hotel, re...            0\n",
       "451596                 [lovely, hotel, v, welcome, staff]            0\n",
       "302161  [free, wifi, location, perfect, lot, time, wan...            0\n",
       "317079  [room, generally, bit, shabby, lack, maintenan...            0\n",
       "13963   [executive, room, floor, bath, website, make, ...            0\n",
       "159785  [pity, two, day, rain, centrality, proximity, ...            0\n",
       "195089  [like, construction, progress, stuff, lie, u, ...            1"
      ]
     },
     "execution_count": 128,
     "metadata": {},
     "output_type": "execute_result"
    }
   ],
   "source": [
    "# WordNet® is a large lexical database of English.\n",
    "from nltk.corpus import wordnet\n",
    "from nltk.stem import WordNetLemmatizer\n",
    "\n",
    "def get_wordnet_pos(t):\n",
    "    if t.startswith('J'):\n",
    "        return wordnet.ADJ\n",
    "    elif t.startswith('V'):\n",
    "        return wordnet.VERB\n",
    "    elif t.startswith('N'):\n",
    "        return wordnet.NOUN\n",
    "    elif t.startswith('R'):\n",
    "        return wordnet.ADV\n",
    "    else:\n",
    "        return wordnet.NOUN\n",
    "\n",
    "# lemmatize text\n",
    "def text_lem(text):\n",
    "    text = [WordNetLemmatizer().lemmatize(t[0], get_wordnet_pos(t[1])) for t in text]\n",
    "    return text\n",
    "\n",
    "reviews_SA[\"Review\"] = reviews_SA[\"Review\"].apply(lambda x: text_lem(x))\n",
    "reviews_SA.head(10)"
   ]
  },
  {
   "cell_type": "markdown",
   "metadata": {},
   "source": [
    "## Part 2F: Final Clean-ups "
   ]
  },
  {
   "cell_type": "code",
   "execution_count": 129,
   "metadata": {
    "scrolled": true
   },
   "outputs": [
    {
     "data": {
      "text/html": [
       "<div>\n",
       "<style scoped>\n",
       "    .dataframe tbody tr th:only-of-type {\n",
       "        vertical-align: middle;\n",
       "    }\n",
       "\n",
       "    .dataframe tbody tr th {\n",
       "        vertical-align: top;\n",
       "    }\n",
       "\n",
       "    .dataframe thead th {\n",
       "        text-align: right;\n",
       "    }\n",
       "</style>\n",
       "<table border=\"1\" class=\"dataframe\">\n",
       "  <thead>\n",
       "    <tr style=\"text-align: right;\">\n",
       "      <th></th>\n",
       "      <th>Review</th>\n",
       "      <th>Bad_Review?</th>\n",
       "    </tr>\n",
       "  </thead>\n",
       "  <tbody>\n",
       "    <tr>\n",
       "      <th>488440</th>\n",
       "      <td>would appreciate shop hotel sell drinking wate...</td>\n",
       "      <td>0</td>\n",
       "    </tr>\n",
       "    <tr>\n",
       "      <th>274649</th>\n",
       "      <td>tissue paper box present room</td>\n",
       "      <td>0</td>\n",
       "    </tr>\n",
       "    <tr>\n",
       "      <th>374688</th>\n",
       "      <td>pillow nice welcome service</td>\n",
       "      <td>0</td>\n",
       "    </tr>\n",
       "    <tr>\n",
       "      <th>404352</th>\n",
       "      <td>everything include nice upgrade hotel revamp s...</td>\n",
       "      <td>0</td>\n",
       "    </tr>\n",
       "    <tr>\n",
       "      <th>451596</th>\n",
       "      <td>lovely hotel welcome staff</td>\n",
       "      <td>0</td>\n",
       "    </tr>\n",
       "    <tr>\n",
       "      <th>302161</th>\n",
       "      <td>free wifi location perfect lot time want look ...</td>\n",
       "      <td>0</td>\n",
       "    </tr>\n",
       "    <tr>\n",
       "      <th>317079</th>\n",
       "      <td>room generally bit shabby lack maintenance cru...</td>\n",
       "      <td>0</td>\n",
       "    </tr>\n",
       "    <tr>\n",
       "      <th>13963</th>\n",
       "      <td>executive room floor bath website make look li...</td>\n",
       "      <td>0</td>\n",
       "    </tr>\n",
       "    <tr>\n",
       "      <th>159785</th>\n",
       "      <td>pity two day rain centrality proximity destina...</td>\n",
       "      <td>0</td>\n",
       "    </tr>\n",
       "    <tr>\n",
       "      <th>195089</th>\n",
       "      <td>like construction progress stuff lie vacancy l...</td>\n",
       "      <td>1</td>\n",
       "    </tr>\n",
       "    <tr>\n",
       "      <th>477589</th>\n",
       "      <td>free upgrade executive double room complementa...</td>\n",
       "      <td>0</td>\n",
       "    </tr>\n",
       "    <tr>\n",
       "      <th>456271</th>\n",
       "      <td>location breakfast friendly staff nice room</td>\n",
       "      <td>0</td>\n",
       "    </tr>\n",
       "    <tr>\n",
       "      <th>306957</th>\n",
       "      <td>pool small kind chemical much chlorine top loc...</td>\n",
       "      <td>0</td>\n",
       "    </tr>\n",
       "  </tbody>\n",
       "</table>\n",
       "</div>"
      ],
      "text/plain": [
       "                                                   Review  Bad_Review?\n",
       "488440  would appreciate shop hotel sell drinking wate...            0\n",
       "274649                      tissue paper box present room            0\n",
       "374688                        pillow nice welcome service            0\n",
       "404352  everything include nice upgrade hotel revamp s...            0\n",
       "451596                         lovely hotel welcome staff            0\n",
       "302161  free wifi location perfect lot time want look ...            0\n",
       "317079  room generally bit shabby lack maintenance cru...            0\n",
       "13963   executive room floor bath website make look li...            0\n",
       "159785  pity two day rain centrality proximity destina...            0\n",
       "195089  like construction progress stuff lie vacancy l...            1\n",
       "477589  free upgrade executive double room complementa...            0\n",
       "456271        location breakfast friendly staff nice room            0\n",
       "306957  pool small kind chemical much chlorine top loc...            0"
      ]
     },
     "execution_count": 129,
     "metadata": {},
     "output_type": "execute_result"
    }
   ],
   "source": [
    "def text_cl(text):\n",
    "    # remove words with only one letter\n",
    "    text = [word for word in text if len(word) > 1]\n",
    "    # join all\n",
    "    text = \" \".join(text)\n",
    "    return text\n",
    "\n",
    "reviews_SA[\"Review\"] = reviews_SA[\"Review\"].apply(lambda x: text_cl(x))\n",
    "reviews_SA.head(3)"
   ]
  },
  {
   "cell_type": "markdown",
   "metadata": {},
   "source": [
    "## Part 3: Feature Engineering "
   ]
  },
  {
   "cell_type": "markdown",
   "metadata": {},
   "source": [
    "## Part 3A: Sentiment Analysis by Vedar\n",
    "Vader is a part of the NLTK module designed for sentiment analysis. Vader uses a lexicon of words to find which ones are positives or negatives. It also takes into account the context of the sentences to determine the sentiment scores. For each text, Vader returns 4 values:\n",
    "- a neutrality score\n",
    "- a positivity score\n",
    "- a negativity score\n",
    "- an overall score that summarizes the previous scores"
   ]
  },
  {
   "cell_type": "code",
   "execution_count": 134,
   "metadata": {
    "ExecuteTime": {
     "end_time": "2018-09-14T14:51:24.968871Z",
     "start_time": "2018-09-14T14:51:24.725501Z"
    },
    "scrolled": true
   },
   "outputs": [
    {
     "data": {
      "text/html": [
       "<div>\n",
       "<style scoped>\n",
       "    .dataframe tbody tr th:only-of-type {\n",
       "        vertical-align: middle;\n",
       "    }\n",
       "\n",
       "    .dataframe tbody tr th {\n",
       "        vertical-align: top;\n",
       "    }\n",
       "\n",
       "    .dataframe thead th {\n",
       "        text-align: right;\n",
       "    }\n",
       "</style>\n",
       "<table border=\"1\" class=\"dataframe\">\n",
       "  <thead>\n",
       "    <tr style=\"text-align: right;\">\n",
       "      <th></th>\n",
       "      <th>Review</th>\n",
       "      <th>Bad_Review?</th>\n",
       "      <th>compound</th>\n",
       "      <th>neg</th>\n",
       "      <th>neu</th>\n",
       "      <th>pos</th>\n",
       "    </tr>\n",
       "  </thead>\n",
       "  <tbody>\n",
       "    <tr>\n",
       "      <th>488440</th>\n",
       "      <td>would appreciate shop hotel sell drinking wate...</td>\n",
       "      <td>0</td>\n",
       "      <td>0.9889</td>\n",
       "      <td>0.016</td>\n",
       "      <td>0.536</td>\n",
       "      <td>0.449</td>\n",
       "    </tr>\n",
       "    <tr>\n",
       "      <th>274649</th>\n",
       "      <td>tissue paper box present room</td>\n",
       "      <td>0</td>\n",
       "      <td>0.0000</td>\n",
       "      <td>0.000</td>\n",
       "      <td>1.000</td>\n",
       "      <td>0.000</td>\n",
       "    </tr>\n",
       "    <tr>\n",
       "      <th>374688</th>\n",
       "      <td>pillow nice welcome service</td>\n",
       "      <td>0</td>\n",
       "      <td>0.7003</td>\n",
       "      <td>0.000</td>\n",
       "      <td>0.256</td>\n",
       "      <td>0.744</td>\n",
       "    </tr>\n",
       "  </tbody>\n",
       "</table>\n",
       "</div>"
      ],
      "text/plain": [
       "                                                   Review  Bad_Review?  \\\n",
       "488440  would appreciate shop hotel sell drinking wate...            0   \n",
       "274649                      tissue paper box present room            0   \n",
       "374688                        pillow nice welcome service            0   \n",
       "\n",
       "        compound    neg    neu    pos  \n",
       "488440    0.9889  0.016  0.536  0.449  \n",
       "274649    0.0000  0.000  1.000  0.000  \n",
       "374688    0.7003  0.000  0.256  0.744  "
      ]
     },
     "execution_count": 134,
     "metadata": {},
     "output_type": "execute_result"
    }
   ],
   "source": [
    "from nltk.sentiment.vader import SentimentIntensityAnalyzer\n",
    "\n",
    "# Vader sentiment analysis \n",
    "sa_v = SentimentIntensityAnalyzer()\n",
    "reviews_SA[\"Sentiments\"] = reviews_SA[\"Review\"].apply(lambda x: sa_v.polarity_scores(x))\n",
    "reviews_SA.head(3)\n",
    "\n",
    "# We integrate those 4 values as features in our dataset\n",
    "reviews_SA = pd.concat([reviews_SA.drop(['Sentiments'], axis=1), reviews_SA['Sentiments'].apply(pd.Series)], axis=1)\n",
    "reviews_SA.head(3)"
   ]
  },
  {
   "cell_type": "markdown",
   "metadata": {},
   "source": [
    "## Part 3B: Add More features "
   ]
  },
  {
   "cell_type": "code",
   "execution_count": null,
   "metadata": {},
   "outputs": [],
   "source": [
    "add number of characters column\n",
    "\n",
    "# add number of words column"
   ]
  },
  {
   "cell_type": "code",
   "execution_count": null,
   "metadata": {},
   "outputs": [],
   "source": []
  },
  {
   "cell_type": "code",
   "execution_count": null,
   "metadata": {
    "scrolled": true
   },
   "outputs": [],
   "source": []
  },
  {
   "cell_type": "markdown",
   "metadata": {},
   "source": [
    "## Part 5: "
   ]
  },
  {
   "cell_type": "code",
   "execution_count": null,
   "metadata": {},
   "outputs": [],
   "source": []
  },
  {
   "cell_type": "markdown",
   "metadata": {},
   "source": [
    "## Part 6: "
   ]
  },
  {
   "cell_type": "code",
   "execution_count": null,
   "metadata": {
    "ExecuteTime": {
     "end_time": "2018-09-14T14:51:57.953014Z",
     "start_time": "2018-09-14T14:51:57.945658Z"
    }
   },
   "outputs": [],
   "source": []
  },
  {
   "cell_type": "code",
   "execution_count": null,
   "metadata": {},
   "outputs": [],
   "source": []
  }
 ],
 "metadata": {
  "kernelspec": {
   "display_name": "Python 2",
   "language": "python",
   "name": "python2"
  },
  "language_info": {
   "codemirror_mode": {
    "name": "ipython",
    "version": 2
   },
   "file_extension": ".py",
   "mimetype": "text/x-python",
   "name": "python",
   "nbconvert_exporter": "python",
   "pygments_lexer": "ipython2",
   "version": "2.7.16"
  }
 },
 "nbformat": 4,
 "nbformat_minor": 2
}
