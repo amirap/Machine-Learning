{
 "cells": [
  {
   "cell_type": "markdown",
   "metadata": {},
   "source": [
    "# # Project: NLP to Analyze Sentiments of Consumer Reviews of Hotels    \n",
    "\n",
    "In this project, we use Sentiment Analysis of NLP to analyze reviews of hotels. We would like to understand if a review is positive or negative (without looking at the ratings). We will use the following libraries:\n",
    "- NLTK: the most famous python module for NLP techniques\n",
    "- Gensim: an open-source library for unsupervised topic modeling and NLP, using statistical machine learning\n",
    "- Scikit-learn: the most used python machine learning library\n",
    "\n",
    "The dataset is from Kaggle and contains 515,000 customer reviews and scoring of 1493 luxury hotels offered in Booking.come across Europe.\n",
    "The dataset can be found here: https://www.kaggle.com/jiashenliu/515k-hotel-reviews-data-in-europe/version/1"
   ]
  },
  {
   "cell_type": "code",
   "execution_count": 1,
   "metadata": {},
   "outputs": [],
   "source": [
    "import pandas as pd\n",
    "import matplotlib.pyplot as plt"
   ]
  },
  {
   "cell_type": "markdown",
   "metadata": {},
   "source": [
    "## Part 1: Load and Select the Data "
   ]
  },
  {
   "cell_type": "code",
   "execution_count": 18,
   "metadata": {
    "ExecuteTime": {
     "end_time": "2018-09-14T14:51:21.351977Z",
     "start_time": "2018-09-14T14:51:21.349551Z"
    },
    "scrolled": true
   },
   "outputs": [
    {
     "name": "stdout",
     "output_type": "stream",
     "text": [
      "<class 'pandas.core.frame.DataFrame'>\n",
      "RangeIndex: 515738 entries, 0 to 515737\n",
      "Data columns (total 17 columns):\n",
      "Hotel_Address                                 515738 non-null object\n",
      "Additional_Number_of_Scoring                  515738 non-null int64\n",
      "Review_Date                                   515738 non-null object\n",
      "Average_Score                                 515738 non-null float64\n",
      "Hotel_Name                                    515738 non-null object\n",
      "Reviewer_Nationality                          515738 non-null object\n",
      "Negative_Review                               515738 non-null object\n",
      "Review_Total_Negative_Word_Counts             515738 non-null int64\n",
      "Total_Number_of_Reviews                       515738 non-null int64\n",
      "Positive_Review                               515738 non-null object\n",
      "Review_Total_Positive_Word_Counts             515738 non-null int64\n",
      "Total_Number_of_Reviews_Reviewer_Has_Given    515738 non-null int64\n",
      "Reviewer_Score                                515738 non-null float64\n",
      "Tags                                          515738 non-null object\n",
      "days_since_review                             515738 non-null object\n",
      "lat                                           512470 non-null float64\n",
      "lng                                           512470 non-null float64\n",
      "dtypes: float64(4), int64(5), object(8)\n",
      "memory usage: 66.9+ MB\n"
     ]
    }
   ],
   "source": [
    "# load the data into a datadrame\n",
    "reviews = pd.read_csv('/Users/Amir/PythonProjects/HotelRRDataset/Hotel_Reviews.csv')\n",
    "reviews.info()\n",
    "\n",
    "# append positive and negative reviews to have all in one column (in booking, there is two entires for \n",
    "# consumers to write positive and negative comments)\n",
    "reviews[\"Review\"] = reviews[\"Negative_Review\"] + reviews[\"Positive_Review\"]\n",
    "\n",
    "# we define a bad review as the one which has overall rating of lower than 5. We label them using actual ratings \n",
    "# to compare them to our predicion to evaluate the performance \n",
    "reviews[\"Bad_Review?\"] = reviews[\"Reviewer_Score\"].apply(lambda x: 1 if x < 5 else 0)"
   ]
  },
  {
   "cell_type": "code",
   "execution_count": 19,
   "metadata": {},
   "outputs": [
    {
     "data": {
      "text/html": [
       "<div>\n",
       "<style scoped>\n",
       "    .dataframe tbody tr th:only-of-type {\n",
       "        vertical-align: middle;\n",
       "    }\n",
       "\n",
       "    .dataframe tbody tr th {\n",
       "        vertical-align: top;\n",
       "    }\n",
       "\n",
       "    .dataframe thead th {\n",
       "        text-align: right;\n",
       "    }\n",
       "</style>\n",
       "<table border=\"1\" class=\"dataframe\">\n",
       "  <thead>\n",
       "    <tr style=\"text-align: right;\">\n",
       "      <th></th>\n",
       "      <th>Review</th>\n",
       "      <th>Bad_Review?</th>\n",
       "    </tr>\n",
       "  </thead>\n",
       "  <tbody>\n",
       "    <tr>\n",
       "      <th>0</th>\n",
       "      <td>I am so angry that i made this post available...</td>\n",
       "      <td>1</td>\n",
       "    </tr>\n",
       "    <tr>\n",
       "      <th>1</th>\n",
       "      <td>No Negative No real complaints the hotel was g...</td>\n",
       "      <td>0</td>\n",
       "    </tr>\n",
       "    <tr>\n",
       "      <th>2</th>\n",
       "      <td>Rooms are nice but for elderly a bit difficul...</td>\n",
       "      <td>0</td>\n",
       "    </tr>\n",
       "    <tr>\n",
       "      <th>3</th>\n",
       "      <td>My room was dirty and I was afraid to walk ba...</td>\n",
       "      <td>1</td>\n",
       "    </tr>\n",
       "    <tr>\n",
       "      <th>4</th>\n",
       "      <td>You When I booked with your company on line y...</td>\n",
       "      <td>0</td>\n",
       "    </tr>\n",
       "    <tr>\n",
       "      <th>5</th>\n",
       "      <td>Backyard of the hotel is total mess shouldn t...</td>\n",
       "      <td>0</td>\n",
       "    </tr>\n",
       "    <tr>\n",
       "      <th>6</th>\n",
       "      <td>Cleaner did not change our sheet and duvet ev...</td>\n",
       "      <td>1</td>\n",
       "    </tr>\n",
       "    <tr>\n",
       "      <th>7</th>\n",
       "      <td>Apart from the price for the brekfast Everyth...</td>\n",
       "      <td>0</td>\n",
       "    </tr>\n",
       "    <tr>\n",
       "      <th>8</th>\n",
       "      <td>Even though the pictures show very clean room...</td>\n",
       "      <td>0</td>\n",
       "    </tr>\n",
       "    <tr>\n",
       "      <th>9</th>\n",
       "      <td>The aircondition makes so much noise and its ...</td>\n",
       "      <td>0</td>\n",
       "    </tr>\n",
       "  </tbody>\n",
       "</table>\n",
       "</div>"
      ],
      "text/plain": [
       "                                              Review  Bad_Review?\n",
       "0   I am so angry that i made this post available...            1\n",
       "1  No Negative No real complaints the hotel was g...            0\n",
       "2   Rooms are nice but for elderly a bit difficul...            0\n",
       "3   My room was dirty and I was afraid to walk ba...            1\n",
       "4   You When I booked with your company on line y...            0\n",
       "5   Backyard of the hotel is total mess shouldn t...            0\n",
       "6   Cleaner did not change our sheet and duvet ev...            1\n",
       "7   Apart from the price for the brekfast Everyth...            0\n",
       "8   Even though the pictures show very clean room...            0\n",
       "9   The aircondition makes so much noise and its ...            0"
      ]
     },
     "execution_count": 19,
     "metadata": {},
     "output_type": "execute_result"
    }
   ],
   "source": [
    "# Select only the relevant data for Sentiment Analysis\n",
    "reviews_SA = reviews[[\"Review\",\"Bad_Review?\"]]\n",
    "reviews_SA.head(10)"
   ]
  },
  {
   "cell_type": "code",
   "execution_count": 20,
   "metadata": {},
   "outputs": [],
   "source": [
    "# Sample some data to increase the computation speed\n",
    "# sample 10% of the data \n",
    "reviews_SA = reviews_SA.sample(frac = 0.1, replace = False, random_state=42)"
   ]
  },
  {
   "cell_type": "code",
   "execution_count": 21,
   "metadata": {},
   "outputs": [
    {
     "data": {
      "text/html": [
       "<div>\n",
       "<style scoped>\n",
       "    .dataframe tbody tr th:only-of-type {\n",
       "        vertical-align: middle;\n",
       "    }\n",
       "\n",
       "    .dataframe tbody tr th {\n",
       "        vertical-align: top;\n",
       "    }\n",
       "\n",
       "    .dataframe thead th {\n",
       "        text-align: right;\n",
       "    }\n",
       "</style>\n",
       "<table border=\"1\" class=\"dataframe\">\n",
       "  <thead>\n",
       "    <tr style=\"text-align: right;\">\n",
       "      <th></th>\n",
       "      <th>Review</th>\n",
       "      <th>Bad_Review?</th>\n",
       "    </tr>\n",
       "  </thead>\n",
       "  <tbody>\n",
       "    <tr>\n",
       "      <th>488440</th>\n",
       "      <td>Would have appreciated a shop in the hotel th...</td>\n",
       "      <td>0</td>\n",
       "    </tr>\n",
       "    <tr>\n",
       "      <th>274649</th>\n",
       "      <td>No tissue paper box was present at the room</td>\n",
       "      <td>0</td>\n",
       "    </tr>\n",
       "    <tr>\n",
       "      <th>374688</th>\n",
       "      <td>Pillows  Nice welcoming and service</td>\n",
       "      <td>0</td>\n",
       "    </tr>\n",
       "    <tr>\n",
       "      <th>404352</th>\n",
       "      <td>Everything including the nice upgrade The Hot...</td>\n",
       "      <td>0</td>\n",
       "    </tr>\n",
       "    <tr>\n",
       "      <th>451596</th>\n",
       "      <td>Lovely hotel v welcoming staff</td>\n",
       "      <td>0</td>\n",
       "    </tr>\n",
       "    <tr>\n",
       "      <th>302161</th>\n",
       "      <td>They don t have free wifi The location is per...</td>\n",
       "      <td>0</td>\n",
       "    </tr>\n",
       "    <tr>\n",
       "      <th>317079</th>\n",
       "      <td>Room generally a bit shabby with some lack of...</td>\n",
       "      <td>0</td>\n",
       "    </tr>\n",
       "    <tr>\n",
       "      <th>13963</th>\n",
       "      <td>Executive rooms 9th Floor don t have a bath T...</td>\n",
       "      <td>0</td>\n",
       "    </tr>\n",
       "    <tr>\n",
       "      <th>159785</th>\n",
       "      <td>Pity about the two days of rain Its centralit...</td>\n",
       "      <td>0</td>\n",
       "    </tr>\n",
       "    <tr>\n",
       "      <th>195089</th>\n",
       "      <td>Didn t like it at all construction was in pro...</td>\n",
       "      <td>1</td>\n",
       "    </tr>\n",
       "  </tbody>\n",
       "</table>\n",
       "</div>"
      ],
      "text/plain": [
       "                                                   Review  Bad_Review?\n",
       "488440   Would have appreciated a shop in the hotel th...            0\n",
       "274649        No tissue paper box was present at the room            0\n",
       "374688                Pillows  Nice welcoming and service            0\n",
       "404352   Everything including the nice upgrade The Hot...            0\n",
       "451596                    Lovely hotel v welcoming staff             0\n",
       "302161   They don t have free wifi The location is per...            0\n",
       "317079   Room generally a bit shabby with some lack of...            0\n",
       "13963    Executive rooms 9th Floor don t have a bath T...            0\n",
       "159785   Pity about the two days of rain Its centralit...            0\n",
       "195089   Didn t like it at all construction was in pro...            1"
      ]
     },
     "execution_count": 21,
     "metadata": {},
     "output_type": "execute_result"
    }
   ],
   "source": [
    "# Clean-up\n",
    "# based on the data spec, if the reviewer does not give the negative or positive review, \n",
    "# the associated column will 'No Negative' and 'No Positive'. We need to remove them\n",
    "# ro turn off the chain warning \n",
    "pd.options.mode.chained_assignment = None\n",
    "reviews_SA[\"Review\"] = reviews_SA[\"Review\"].apply(lambda x: x.replace('No Negative','').replace('No Positive',''))\n",
    "# see row two for an example \n",
    "reviews_SA.head(10)"
   ]
  },
  {
   "cell_type": "markdown",
   "metadata": {},
   "source": [
    "## Part 2: Text Preprocessing\n",
    "Since, text is the most unstructured form of all the available data, various types of noise are present in it and the data is not readily analyzable without any pre-processing. The entire process of cleaning and standardization of text, making it noise-free and ready for analysis is known as text preprocessing."
   ]
  },
  {
   "cell_type": "code",
   "execution_count": 22,
   "metadata": {
    "scrolled": true
   },
   "outputs": [],
   "source": [
    "# Import required libraries \n",
    "import nltk\n",
    "# FOR THE FIRST TIME, RUN ALL ABOVE CODE TO MAKE SURE YOU HAVE NECCESSARY NLTK MODULES\n",
    "# nltk.download('averaged_perceptron_tagger')\n",
    "# nltk.download('wordnet')\n",
    "# nltk.download('vader_lexicon')"
   ]
  },
  {
   "cell_type": "markdown",
   "metadata": {},
   "source": [
    "## Part 2A: Lower the Text"
   ]
  },
  {
   "cell_type": "code",
   "execution_count": 23,
   "metadata": {},
   "outputs": [
    {
     "data": {
      "text/html": [
       "<div>\n",
       "<style scoped>\n",
       "    .dataframe tbody tr th:only-of-type {\n",
       "        vertical-align: middle;\n",
       "    }\n",
       "\n",
       "    .dataframe tbody tr th {\n",
       "        vertical-align: top;\n",
       "    }\n",
       "\n",
       "    .dataframe thead th {\n",
       "        text-align: right;\n",
       "    }\n",
       "</style>\n",
       "<table border=\"1\" class=\"dataframe\">\n",
       "  <thead>\n",
       "    <tr style=\"text-align: right;\">\n",
       "      <th></th>\n",
       "      <th>Review</th>\n",
       "      <th>Bad_Review?</th>\n",
       "      <th>Review_clean</th>\n",
       "    </tr>\n",
       "  </thead>\n",
       "  <tbody>\n",
       "    <tr>\n",
       "      <th>488440</th>\n",
       "      <td>Would have appreciated a shop in the hotel th...</td>\n",
       "      <td>0</td>\n",
       "      <td>would have appreciated a shop in the hotel th...</td>\n",
       "    </tr>\n",
       "    <tr>\n",
       "      <th>274649</th>\n",
       "      <td>No tissue paper box was present at the room</td>\n",
       "      <td>0</td>\n",
       "      <td>no tissue paper box was present at the room</td>\n",
       "    </tr>\n",
       "    <tr>\n",
       "      <th>374688</th>\n",
       "      <td>Pillows  Nice welcoming and service</td>\n",
       "      <td>0</td>\n",
       "      <td>pillows  nice welcoming and service</td>\n",
       "    </tr>\n",
       "  </tbody>\n",
       "</table>\n",
       "</div>"
      ],
      "text/plain": [
       "                                                   Review  Bad_Review?  \\\n",
       "488440   Would have appreciated a shop in the hotel th...            0   \n",
       "274649        No tissue paper box was present at the room            0   \n",
       "374688                Pillows  Nice welcoming and service            0   \n",
       "\n",
       "                                             Review_clean  \n",
       "488440   would have appreciated a shop in the hotel th...  \n",
       "274649        no tissue paper box was present at the room  \n",
       "374688                pillows  nice welcoming and service  "
      ]
     },
     "execution_count": 23,
     "metadata": {},
     "output_type": "execute_result"
    }
   ],
   "source": [
    "# lower text\n",
    "def text_low(text):\n",
    "    text = text.lower()\n",
    "    return text \n",
    "reviews_SA[\"Review_clean\"] = reviews_SA[\"Review\"].apply(lambda x: text_low(x))\n",
    "reviews_SA.head(3)"
   ]
  },
  {
   "cell_type": "markdown",
   "metadata": {},
   "source": [
    "## Part 2B: Tokenize\n",
    "Tokenize the text (split the text into words) and remove the punctuation"
   ]
  },
  {
   "cell_type": "code",
   "execution_count": 24,
   "metadata": {},
   "outputs": [
    {
     "data": {
      "text/html": [
       "<div>\n",
       "<style scoped>\n",
       "    .dataframe tbody tr th:only-of-type {\n",
       "        vertical-align: middle;\n",
       "    }\n",
       "\n",
       "    .dataframe tbody tr th {\n",
       "        vertical-align: top;\n",
       "    }\n",
       "\n",
       "    .dataframe thead th {\n",
       "        text-align: right;\n",
       "    }\n",
       "</style>\n",
       "<table border=\"1\" class=\"dataframe\">\n",
       "  <thead>\n",
       "    <tr style=\"text-align: right;\">\n",
       "      <th></th>\n",
       "      <th>Review</th>\n",
       "      <th>Bad_Review?</th>\n",
       "      <th>Review_clean</th>\n",
       "    </tr>\n",
       "  </thead>\n",
       "  <tbody>\n",
       "    <tr>\n",
       "      <th>488440</th>\n",
       "      <td>Would have appreciated a shop in the hotel th...</td>\n",
       "      <td>0</td>\n",
       "      <td>[, would, have, appreciated, a, shop, in, the,...</td>\n",
       "    </tr>\n",
       "    <tr>\n",
       "      <th>274649</th>\n",
       "      <td>No tissue paper box was present at the room</td>\n",
       "      <td>0</td>\n",
       "      <td>[, no, tissue, paper, box, was, present, at, t...</td>\n",
       "    </tr>\n",
       "    <tr>\n",
       "      <th>374688</th>\n",
       "      <td>Pillows  Nice welcoming and service</td>\n",
       "      <td>0</td>\n",
       "      <td>[, pillows, , nice, welcoming, and, service]</td>\n",
       "    </tr>\n",
       "  </tbody>\n",
       "</table>\n",
       "</div>"
      ],
      "text/plain": [
       "                                                   Review  Bad_Review?  \\\n",
       "488440   Would have appreciated a shop in the hotel th...            0   \n",
       "274649        No tissue paper box was present at the room            0   \n",
       "374688                Pillows  Nice welcoming and service            0   \n",
       "\n",
       "                                             Review_clean  \n",
       "488440  [, would, have, appreciated, a, shop, in, the,...  \n",
       "274649  [, no, tissue, paper, box, was, present, at, t...  \n",
       "374688       [, pillows, , nice, welcoming, and, service]  "
      ]
     },
     "execution_count": 24,
     "metadata": {},
     "output_type": "execute_result"
    }
   ],
   "source": [
    "# tokenize text and remove puncutation\n",
    "from nltk.tokenize import WhitespaceTokenizer\n",
    "import string\n",
    "def text_tok(text):\n",
    "    text = [word.strip(string.punctuation) for word in text.split(\" \")]\n",
    "    return text\n",
    "\n",
    "reviews_SA[\"Review_clean\"] = reviews_SA[\"Review_clean\"].apply(lambda x: text_tok(x))\n",
    "reviews_SA.head(3)\n"
   ]
  },
  {
   "cell_type": "markdown",
   "metadata": {},
   "source": [
    "## Part 2C: Noise Removal\n",
    "Remove all common words, stopwords, numbers, etc. "
   ]
  },
  {
   "cell_type": "code",
   "execution_count": 25,
   "metadata": {},
   "outputs": [
    {
     "data": {
      "text/html": [
       "<div>\n",
       "<style scoped>\n",
       "    .dataframe tbody tr th:only-of-type {\n",
       "        vertical-align: middle;\n",
       "    }\n",
       "\n",
       "    .dataframe tbody tr th {\n",
       "        vertical-align: top;\n",
       "    }\n",
       "\n",
       "    .dataframe thead th {\n",
       "        text-align: right;\n",
       "    }\n",
       "</style>\n",
       "<table border=\"1\" class=\"dataframe\">\n",
       "  <thead>\n",
       "    <tr style=\"text-align: right;\">\n",
       "      <th></th>\n",
       "      <th>Review</th>\n",
       "      <th>Bad_Review?</th>\n",
       "      <th>Review_clean</th>\n",
       "    </tr>\n",
       "  </thead>\n",
       "  <tbody>\n",
       "    <tr>\n",
       "      <th>488440</th>\n",
       "      <td>Would have appreciated a shop in the hotel th...</td>\n",
       "      <td>0</td>\n",
       "      <td>[would, appreciated, shop, hotel, sold, drinki...</td>\n",
       "    </tr>\n",
       "    <tr>\n",
       "      <th>274649</th>\n",
       "      <td>No tissue paper box was present at the room</td>\n",
       "      <td>0</td>\n",
       "      <td>[tissue, paper, box, present, room]</td>\n",
       "    </tr>\n",
       "    <tr>\n",
       "      <th>374688</th>\n",
       "      <td>Pillows  Nice welcoming and service</td>\n",
       "      <td>0</td>\n",
       "      <td>[pillows, nice, welcoming, service]</td>\n",
       "    </tr>\n",
       "  </tbody>\n",
       "</table>\n",
       "</div>"
      ],
      "text/plain": [
       "                                                   Review  Bad_Review?  \\\n",
       "488440   Would have appreciated a shop in the hotel th...            0   \n",
       "274649        No tissue paper box was present at the room            0   \n",
       "374688                Pillows  Nice welcoming and service            0   \n",
       "\n",
       "                                             Review_clean  \n",
       "488440  [would, appreciated, shop, hotel, sold, drinki...  \n",
       "274649                [tissue, paper, box, present, room]  \n",
       "374688                [pillows, nice, welcoming, service]  "
      ]
     },
     "execution_count": 25,
     "metadata": {},
     "output_type": "execute_result"
    }
   ],
   "source": [
    "from nltk.corpus import stopwords\n",
    "def text_noise(text):\n",
    "    # remove words that contain numbers\n",
    "    text = [word for word in text if not any(c.isdigit() for c in word)]\n",
    "    # remove useless stop words like 'the', 'a' ,'this' etc.\n",
    "    stop = stopwords.words('english')\n",
    "    text = [x for x in text if x not in stop]\n",
    "    # remove empty tokens\n",
    "    text = [t for t in text if len(t) > 0]\n",
    "    return text \n",
    "\n",
    "reviews_SA[\"Review_clean\"] = reviews_SA[\"Review_clean\"].apply(lambda x: text_noise(x))\n",
    "reviews_SA.head(3)"
   ]
  },
  {
   "cell_type": "markdown",
   "metadata": {},
   "source": [
    "## Part 2D: POS Tagging\n",
    "Part-Of-Speech (POS) tagging: assign a tag to every word to define if it corresponds to a noun, a verb etc. using the WordNet lexical database.In WordNet lexical database, Nouns, verbs, adjectives and adverbs are grouped."
   ]
  },
  {
   "cell_type": "code",
   "execution_count": 26,
   "metadata": {},
   "outputs": [
    {
     "data": {
      "text/html": [
       "<div>\n",
       "<style scoped>\n",
       "    .dataframe tbody tr th:only-of-type {\n",
       "        vertical-align: middle;\n",
       "    }\n",
       "\n",
       "    .dataframe tbody tr th {\n",
       "        vertical-align: top;\n",
       "    }\n",
       "\n",
       "    .dataframe thead th {\n",
       "        text-align: right;\n",
       "    }\n",
       "</style>\n",
       "<table border=\"1\" class=\"dataframe\">\n",
       "  <thead>\n",
       "    <tr style=\"text-align: right;\">\n",
       "      <th></th>\n",
       "      <th>Review</th>\n",
       "      <th>Bad_Review?</th>\n",
       "      <th>Review_clean</th>\n",
       "    </tr>\n",
       "  </thead>\n",
       "  <tbody>\n",
       "    <tr>\n",
       "      <th>488440</th>\n",
       "      <td>Would have appreciated a shop in the hotel th...</td>\n",
       "      <td>0</td>\n",
       "      <td>[(would, MD), (appreciated, VBD), (shop, VB), ...</td>\n",
       "    </tr>\n",
       "    <tr>\n",
       "      <th>274649</th>\n",
       "      <td>No tissue paper box was present at the room</td>\n",
       "      <td>0</td>\n",
       "      <td>[(tissue, NN), (paper, NN), (box, NN), (presen...</td>\n",
       "    </tr>\n",
       "    <tr>\n",
       "      <th>374688</th>\n",
       "      <td>Pillows  Nice welcoming and service</td>\n",
       "      <td>0</td>\n",
       "      <td>[(pillows, NNS), (nice, JJ), (welcoming, VBG),...</td>\n",
       "    </tr>\n",
       "  </tbody>\n",
       "</table>\n",
       "</div>"
      ],
      "text/plain": [
       "                                                   Review  Bad_Review?  \\\n",
       "488440   Would have appreciated a shop in the hotel th...            0   \n",
       "274649        No tissue paper box was present at the room            0   \n",
       "374688                Pillows  Nice welcoming and service            0   \n",
       "\n",
       "                                             Review_clean  \n",
       "488440  [(would, MD), (appreciated, VBD), (shop, VB), ...  \n",
       "274649  [(tissue, NN), (paper, NN), (box, NN), (presen...  \n",
       "374688  [(pillows, NNS), (nice, JJ), (welcoming, VBG),...  "
      ]
     },
     "execution_count": 26,
     "metadata": {},
     "output_type": "execute_result"
    }
   ],
   "source": [
    "from nltk import pos_tag\n",
    "def text_pos(text):\n",
    "    text = pos_tag(text)\n",
    "    return text\n",
    "reviews_SA[\"Review_clean\"] = reviews_SA[\"Review_clean\"].apply(lambda x: text_pos(x))\n",
    "reviews_SA.head(3)"
   ]
  },
  {
   "cell_type": "markdown",
   "metadata": {},
   "source": [
    "## Part 2E: Lemmatize \n",
    "Lemmatization is an organized & step by step procedure of obtaining the root form of the word (e.g. rooms -> room, slept -> sleep). It makes use of vocabulary (dictionary importance of words) and morphological analysis (word structure and grammar relations).\n",
    "\n",
    "Note: The difference between stemming and lemmatization is, lemmatization considers the context and converts the word to its meaningful base form, whereas stemming is a rudimentary rule-based process of stripping the suffixesjust which removes the last few characters, often leading to incorrect meanings and spelling errors.\n",
    "‘Caring’ -> Lemmatization -> ‘Care’\n",
    "‘Caring’ -> Stemming -> ‘Car\n",
    "\n",
    "Good tutorial of lemmatization in Python using different libraries and methodes: https://www.machinelearningplus.com/nlp/lemmatization-examples-python/"
   ]
  },
  {
   "cell_type": "code",
   "execution_count": 27,
   "metadata": {},
   "outputs": [
    {
     "data": {
      "text/html": [
       "<div>\n",
       "<style scoped>\n",
       "    .dataframe tbody tr th:only-of-type {\n",
       "        vertical-align: middle;\n",
       "    }\n",
       "\n",
       "    .dataframe tbody tr th {\n",
       "        vertical-align: top;\n",
       "    }\n",
       "\n",
       "    .dataframe thead th {\n",
       "        text-align: right;\n",
       "    }\n",
       "</style>\n",
       "<table border=\"1\" class=\"dataframe\">\n",
       "  <thead>\n",
       "    <tr style=\"text-align: right;\">\n",
       "      <th></th>\n",
       "      <th>Review</th>\n",
       "      <th>Bad_Review?</th>\n",
       "      <th>Review_clean</th>\n",
       "    </tr>\n",
       "  </thead>\n",
       "  <tbody>\n",
       "    <tr>\n",
       "      <th>488440</th>\n",
       "      <td>Would have appreciated a shop in the hotel th...</td>\n",
       "      <td>0</td>\n",
       "      <td>[would, appreciate, shop, hotel, sell, drinkin...</td>\n",
       "    </tr>\n",
       "    <tr>\n",
       "      <th>274649</th>\n",
       "      <td>No tissue paper box was present at the room</td>\n",
       "      <td>0</td>\n",
       "      <td>[tissue, paper, box, present, room]</td>\n",
       "    </tr>\n",
       "    <tr>\n",
       "      <th>374688</th>\n",
       "      <td>Pillows  Nice welcoming and service</td>\n",
       "      <td>0</td>\n",
       "      <td>[pillow, nice, welcome, service]</td>\n",
       "    </tr>\n",
       "  </tbody>\n",
       "</table>\n",
       "</div>"
      ],
      "text/plain": [
       "                                                   Review  Bad_Review?  \\\n",
       "488440   Would have appreciated a shop in the hotel th...            0   \n",
       "274649        No tissue paper box was present at the room            0   \n",
       "374688                Pillows  Nice welcoming and service            0   \n",
       "\n",
       "                                             Review_clean  \n",
       "488440  [would, appreciate, shop, hotel, sell, drinkin...  \n",
       "274649                [tissue, paper, box, present, room]  \n",
       "374688                   [pillow, nice, welcome, service]  "
      ]
     },
     "execution_count": 27,
     "metadata": {},
     "output_type": "execute_result"
    }
   ],
   "source": [
    "# WordNet® is a large lexical database of English.\n",
    "from nltk.corpus import wordnet\n",
    "from nltk.stem import WordNetLemmatizer\n",
    "\n",
    "# We need to map NLTK’s POS tags to the format wordnet lemmatizer would accept. \n",
    "# The get_wordnet_pos() function defined below does this mapping job.\n",
    "def get_wordnet_pos(t):\n",
    "    if t.startswith('J'):\n",
    "        return wordnet.ADJ\n",
    "    elif t.startswith('V'):\n",
    "        return wordnet.VERB\n",
    "    elif t.startswith('N'):\n",
    "        return wordnet.NOUN\n",
    "    elif t.startswith('R'):\n",
    "        return wordnet.ADV\n",
    "    else:\n",
    "        return wordnet.NOUN\n",
    "\n",
    "# lemmatize text\n",
    "# we use POS tag as the second argument to lemmatize() to make sure it gives us the right root.\n",
    "def text_lem(text):\n",
    "    text = [WordNetLemmatizer().lemmatize(t[0], get_wordnet_pos(t[1])) for t in text]\n",
    "    return text\n",
    "\n",
    "reviews_SA[\"Review_clean\"] = reviews_SA[\"Review_clean\"].apply(lambda x: text_lem(x))\n",
    "reviews_SA.head(3)"
   ]
  },
  {
   "cell_type": "markdown",
   "metadata": {},
   "source": [
    "## Part 2F: Final Clean-ups "
   ]
  },
  {
   "cell_type": "code",
   "execution_count": 28,
   "metadata": {
    "scrolled": true
   },
   "outputs": [
    {
     "data": {
      "text/html": [
       "<div>\n",
       "<style scoped>\n",
       "    .dataframe tbody tr th:only-of-type {\n",
       "        vertical-align: middle;\n",
       "    }\n",
       "\n",
       "    .dataframe tbody tr th {\n",
       "        vertical-align: top;\n",
       "    }\n",
       "\n",
       "    .dataframe thead th {\n",
       "        text-align: right;\n",
       "    }\n",
       "</style>\n",
       "<table border=\"1\" class=\"dataframe\">\n",
       "  <thead>\n",
       "    <tr style=\"text-align: right;\">\n",
       "      <th></th>\n",
       "      <th>Review</th>\n",
       "      <th>Bad_Review?</th>\n",
       "      <th>Review_clean</th>\n",
       "    </tr>\n",
       "  </thead>\n",
       "  <tbody>\n",
       "    <tr>\n",
       "      <th>488440</th>\n",
       "      <td>Would have appreciated a shop in the hotel th...</td>\n",
       "      <td>0</td>\n",
       "      <td>would appreciate shop hotel sell drinking wate...</td>\n",
       "    </tr>\n",
       "    <tr>\n",
       "      <th>274649</th>\n",
       "      <td>No tissue paper box was present at the room</td>\n",
       "      <td>0</td>\n",
       "      <td>tissue paper box present room</td>\n",
       "    </tr>\n",
       "    <tr>\n",
       "      <th>374688</th>\n",
       "      <td>Pillows  Nice welcoming and service</td>\n",
       "      <td>0</td>\n",
       "      <td>pillow nice welcome service</td>\n",
       "    </tr>\n",
       "  </tbody>\n",
       "</table>\n",
       "</div>"
      ],
      "text/plain": [
       "                                                   Review  Bad_Review?  \\\n",
       "488440   Would have appreciated a shop in the hotel th...            0   \n",
       "274649        No tissue paper box was present at the room            0   \n",
       "374688                Pillows  Nice welcoming and service            0   \n",
       "\n",
       "                                             Review_clean  \n",
       "488440  would appreciate shop hotel sell drinking wate...  \n",
       "274649                      tissue paper box present room  \n",
       "374688                        pillow nice welcome service  "
      ]
     },
     "execution_count": 28,
     "metadata": {},
     "output_type": "execute_result"
    }
   ],
   "source": [
    "def text_cl(text):\n",
    "    # remove words with only one letter\n",
    "    text = [word for word in text if len(word) > 1]\n",
    "    # join all\n",
    "    text = \" \".join(text)\n",
    "    return text\n",
    "\n",
    "reviews_SA[\"Review_clean\"] = reviews_SA[\"Review_clean\"].apply(lambda x: text_cl(x))\n",
    "reviews_SA.head(3)"
   ]
  },
  {
   "cell_type": "markdown",
   "metadata": {},
   "source": [
    "## Part 3: Feature Engineering on Text Data\n",
    "Feature Engineering is a process of deriving hidden insights from existing data often by proccessing and combining current data."
   ]
  },
  {
   "cell_type": "markdown",
   "metadata": {},
   "source": [
    "## Part 3A: Sentiment Analysis by Vader (first set of features)\n",
    "Vader is a part of the NLTK module designed for sentiment analysis. Vader uses a lexicon of words to find which ones are positives or negatives. It also takes into account the context of the sentences to determine the sentiment scores. For each text, Vader returns 4 values:\n",
    "- a neutrality score\n",
    "- a positivity score\n",
    "- a negativity score\n",
    "- an overall score that summarizes the previous scores\n",
    "We use the vader input as intermidatory analysis and use its results as additional features for our sentiment analysis"
   ]
  },
  {
   "cell_type": "code",
   "execution_count": 29,
   "metadata": {
    "ExecuteTime": {
     "end_time": "2018-09-14T14:51:24.968871Z",
     "start_time": "2018-09-14T14:51:24.725501Z"
    },
    "scrolled": true
   },
   "outputs": [
    {
     "data": {
      "text/html": [
       "<div>\n",
       "<style scoped>\n",
       "    .dataframe tbody tr th:only-of-type {\n",
       "        vertical-align: middle;\n",
       "    }\n",
       "\n",
       "    .dataframe tbody tr th {\n",
       "        vertical-align: top;\n",
       "    }\n",
       "\n",
       "    .dataframe thead th {\n",
       "        text-align: right;\n",
       "    }\n",
       "</style>\n",
       "<table border=\"1\" class=\"dataframe\">\n",
       "  <thead>\n",
       "    <tr style=\"text-align: right;\">\n",
       "      <th></th>\n",
       "      <th>Review</th>\n",
       "      <th>Bad_Review?</th>\n",
       "      <th>Review_clean</th>\n",
       "      <th>compound</th>\n",
       "      <th>neg</th>\n",
       "      <th>neu</th>\n",
       "      <th>pos</th>\n",
       "    </tr>\n",
       "  </thead>\n",
       "  <tbody>\n",
       "    <tr>\n",
       "      <th>488440</th>\n",
       "      <td>Would have appreciated a shop in the hotel th...</td>\n",
       "      <td>0</td>\n",
       "      <td>would appreciate shop hotel sell drinking wate...</td>\n",
       "      <td>0.9924</td>\n",
       "      <td>0.049</td>\n",
       "      <td>0.617</td>\n",
       "      <td>0.334</td>\n",
       "    </tr>\n",
       "    <tr>\n",
       "      <th>274649</th>\n",
       "      <td>No tissue paper box was present at the room</td>\n",
       "      <td>0</td>\n",
       "      <td>tissue paper box present room</td>\n",
       "      <td>-0.2960</td>\n",
       "      <td>0.216</td>\n",
       "      <td>0.784</td>\n",
       "      <td>0.000</td>\n",
       "    </tr>\n",
       "    <tr>\n",
       "      <th>374688</th>\n",
       "      <td>Pillows  Nice welcoming and service</td>\n",
       "      <td>0</td>\n",
       "      <td>pillow nice welcome service</td>\n",
       "      <td>0.6908</td>\n",
       "      <td>0.000</td>\n",
       "      <td>0.345</td>\n",
       "      <td>0.655</td>\n",
       "    </tr>\n",
       "  </tbody>\n",
       "</table>\n",
       "</div>"
      ],
      "text/plain": [
       "                                                   Review  Bad_Review?  \\\n",
       "488440   Would have appreciated a shop in the hotel th...            0   \n",
       "274649        No tissue paper box was present at the room            0   \n",
       "374688                Pillows  Nice welcoming and service            0   \n",
       "\n",
       "                                             Review_clean  compound    neg  \\\n",
       "488440  would appreciate shop hotel sell drinking wate...    0.9924  0.049   \n",
       "274649                      tissue paper box present room   -0.2960  0.216   \n",
       "374688                        pillow nice welcome service    0.6908  0.000   \n",
       "\n",
       "          neu    pos  \n",
       "488440  0.617  0.334  \n",
       "274649  0.784  0.000  \n",
       "374688  0.345  0.655  "
      ]
     },
     "execution_count": 29,
     "metadata": {},
     "output_type": "execute_result"
    }
   ],
   "source": [
    "from nltk.sentiment.vader import SentimentIntensityAnalyzer\n",
    "\n",
    "# Vader sentiment analysis \n",
    "sa_v = SentimentIntensityAnalyzer()\n",
    "reviews_SA[\"Sentiments\"] = reviews_SA[\"Review\"].apply(lambda x: sa_v.polarity_scores(x))\n",
    "reviews_SA.head(3)\n",
    "\n",
    "# We integrate those 4 values as features in our dataset\n",
    "reviews_SA = pd.concat([reviews_SA.drop(['Sentiments'], axis=1), reviews_SA['Sentiments'].apply(pd.Series)], axis=1)\n",
    "reviews_SA.head(3)"
   ]
  },
  {
   "cell_type": "code",
   "execution_count": 30,
   "metadata": {},
   "outputs": [
    {
     "name": "stderr",
     "output_type": "stream",
     "text": [
      "/anaconda3/anaconda3/lib/python2.7/site-packages/scipy/stats/stats.py:1713: FutureWarning: Using a non-tuple sequence for multidimensional indexing is deprecated; use `arr[tuple(seq)]` instead of `arr[seq]`. In the future this will be interpreted as an array index, `arr[np.array(seq)]`, which will result either in an error or a different result.\n",
      "  return np.add.reduce(sorted[indexer] * weights, axis=axis) / sumval\n"
     ]
    },
    {
     "name": "stdout",
     "output_type": "stream",
     "text": [
      "The above graph shows the distribution of the reviews sentiments among good reviews and bad ones. We can see that good reviews are for most of them considered as very positive by Vader. On the contrary, bad reviews tend to have lower compound sentiment scores.We can see that Vader has a good job to find which reviews are good and which ones are bad.\n"
     ]
    },
    {
     "data": {
      "image/png": "[encoded data removed]",
      "text/plain": [
       "<matplotlib.figure.Figure at 0x1a4a49abd0>"
      ]
     },
     "metadata": {
      "needs_background": "light"
     },
     "output_type": "display_data"
    }
   ],
   "source": [
    "# see the performance of Vader!\n",
    "\n",
    "import seaborn as sns\n",
    "\n",
    "for x in [0, 1]:\n",
    "    subset = reviews_SA[reviews_SA['Bad_Review?'] == x]\n",
    "    # Draw the density plot\n",
    "    if x == 0:\n",
    "        label = \"Good reviews\"\n",
    "    else:\n",
    "        label = \"Bad reviews\"\n",
    "    # plot a univariate distribution of observations\n",
    "    sns.distplot(subset['compound'], hist = False, label = label)\n",
    "print(\"The above graph shows the distribution of the reviews sentiments among good reviews and bad ones. \\\n",
    "We can see that good reviews are for most of them considered as very positive by Vader. On the contrary, \\\n",
    "bad reviews tend to have lower compound sentiment scores.We can see that Vader has a good job \\\n",
    "to find which reviews are good and which ones are bad.\")"
   ]
  },
  {
   "cell_type": "markdown",
   "metadata": {},
   "source": [
    "## Part 3B: Add More Features (second set of features) "
   ]
  },
  {
   "cell_type": "code",
   "execution_count": 31,
   "metadata": {
    "scrolled": true
   },
   "outputs": [
    {
     "data": {
      "text/html": [
       "<div>\n",
       "<style scoped>\n",
       "    .dataframe tbody tr th:only-of-type {\n",
       "        vertical-align: middle;\n",
       "    }\n",
       "\n",
       "    .dataframe tbody tr th {\n",
       "        vertical-align: top;\n",
       "    }\n",
       "\n",
       "    .dataframe thead th {\n",
       "        text-align: right;\n",
       "    }\n",
       "</style>\n",
       "<table border=\"1\" class=\"dataframe\">\n",
       "  <thead>\n",
       "    <tr style=\"text-align: right;\">\n",
       "      <th></th>\n",
       "      <th>Review</th>\n",
       "      <th>Bad_Review?</th>\n",
       "      <th>Review_clean</th>\n",
       "      <th>compound</th>\n",
       "      <th>neg</th>\n",
       "      <th>neu</th>\n",
       "      <th>pos</th>\n",
       "      <th>N_ch</th>\n",
       "      <th>N_w</th>\n",
       "    </tr>\n",
       "  </thead>\n",
       "  <tbody>\n",
       "    <tr>\n",
       "      <th>488440</th>\n",
       "      <td>Would have appreciated a shop in the hotel th...</td>\n",
       "      <td>0</td>\n",
       "      <td>would appreciate shop hotel sell drinking wate...</td>\n",
       "      <td>0.9924</td>\n",
       "      <td>0.049</td>\n",
       "      <td>0.617</td>\n",
       "      <td>0.334</td>\n",
       "      <td>599</td>\n",
       "      <td>113</td>\n",
       "    </tr>\n",
       "    <tr>\n",
       "      <th>274649</th>\n",
       "      <td>No tissue paper box was present at the room</td>\n",
       "      <td>0</td>\n",
       "      <td>tissue paper box present room</td>\n",
       "      <td>-0.2960</td>\n",
       "      <td>0.216</td>\n",
       "      <td>0.784</td>\n",
       "      <td>0.000</td>\n",
       "      <td>44</td>\n",
       "      <td>10</td>\n",
       "    </tr>\n",
       "    <tr>\n",
       "      <th>374688</th>\n",
       "      <td>Pillows  Nice welcoming and service</td>\n",
       "      <td>0</td>\n",
       "      <td>pillow nice welcome service</td>\n",
       "      <td>0.6908</td>\n",
       "      <td>0.000</td>\n",
       "      <td>0.345</td>\n",
       "      <td>0.655</td>\n",
       "      <td>36</td>\n",
       "      <td>7</td>\n",
       "    </tr>\n",
       "  </tbody>\n",
       "</table>\n",
       "</div>"
      ],
      "text/plain": [
       "                                                   Review  Bad_Review?  \\\n",
       "488440   Would have appreciated a shop in the hotel th...            0   \n",
       "274649        No tissue paper box was present at the room            0   \n",
       "374688                Pillows  Nice welcoming and service            0   \n",
       "\n",
       "                                             Review_clean  compound    neg  \\\n",
       "488440  would appreciate shop hotel sell drinking wate...    0.9924  0.049   \n",
       "274649                      tissue paper box present room   -0.2960  0.216   \n",
       "374688                        pillow nice welcome service    0.6908  0.000   \n",
       "\n",
       "          neu    pos  N_ch  N_w  \n",
       "488440  0.617  0.334   599  113  \n",
       "274649  0.784  0.000    44   10  \n",
       "374688  0.345  0.655    36    7  "
      ]
     },
     "execution_count": 31,
     "metadata": {},
     "output_type": "execute_result"
    }
   ],
   "source": [
    "# add column of number of characters and words \n",
    "reviews_SA[\"N_ch\"] = reviews_SA[\"Review\"].apply(lambda x: len(x))\n",
    "# add coulmn of number of words\n",
    "reviews_SA[\"N_w\"] = reviews_SA[\"Review\"].apply(lambda x: len(x.split(\" \")))\n",
    "reviews_SA.head(3)"
   ]
  },
  {
   "cell_type": "markdown",
   "metadata": {},
   "source": [
    "## Part 3D: Word Embedding (Doc2Vec) (third set of features)\n",
    "In NLP, we often map words into vectors that contains numeric values so that machine can understand it. The aim of word embedding is to redefine the high dimensional word features into low dimensional feature vectors by preserving the contextual similarity in the corpus. They are widely used in deep learning models such as CNN and RNN. Two state-of-the-art word embedding methods are Word2Vec and FastText.\n",
    "\n",
    "Word2Vec leverages the context of the target words. It is a two-layer neural network that processes text. Its input is a text corpus and its output is a set of vectors: feature vectors for words in that corpus. While Word2vec is not a deep neural network, it turns text into a numerical form that deep networks can understand. It uses the surrounding words to represent the target words with a Neural Network whose hidden layer encodes the word representation. The Word2Vec package from Gensim library creates a numerical vector representation of every word in the corpus by using the contexts in which they appear.\n",
    "\n",
    "There are two types of Word2Vec: a shallow neural network model called \"Continuous Bag of Words\" which uses context to predict a target word, and another shallow neural network model called \"Skip-gram\" which uses a word to predict a target context.\n",
    "Good ref: https://skymind.ai/wiki/word2vec"
   ]
  },
  {
   "cell_type": "code",
   "execution_count": 32,
   "metadata": {
    "scrolled": true
   },
   "outputs": [
    {
     "name": "stdout",
     "output_type": "stream",
     "text": [
      "Word2Vec\n"
     ]
    },
    {
     "data": {
      "image/png": "[encoded data removed]",
      "text/plain": [
       "<IPython.core.display.Image object>"
      ]
     },
     "execution_count": 32,
     "metadata": {},
     "output_type": "execute_result"
    }
   ],
   "source": [
    "print(\"Word2Vec\")\n",
    "from IPython.display import Image\n",
    "Image('/Users/Amir/PythonProjects/HotelRRDataset/skip_gram_net_arch.png')"
   ]
  },
  {
   "cell_type": "code",
   "execution_count": 33,
   "metadata": {
    "scrolled": true
   },
   "outputs": [
    {
     "name": "stdout",
     "output_type": "stream",
     "text": [
      "Continous Bag of Words\n"
     ]
    },
    {
     "data": {
      "image/png": "[encoded data removed]",
      "text/plain": [
       "<IPython.core.display.Image object>"
      ]
     },
     "execution_count": 33,
     "metadata": {},
     "output_type": "execute_result"
    }
   ],
   "source": [
    "print(\"Continous Bag of Words\")\n",
    "from IPython.display import Image\n",
    "Image('/Users/Amir/PythonProjects/HotelRRDataset/CBW.png')"
   ]
  },
  {
   "cell_type": "markdown",
   "metadata": {},
   "source": [
    "\n",
    "The goal of doc2vec is to create a numeric representation of a document, regardless of its length. But unlike words, documents do not come in logical structures such as words, so the another method has to be found. doc2vec uses word2vec model, and added another vector. \n",
    "\n",
    "It is a small extension to the CBOW model. But instead of using just words to predict the next word, we also added another feature vector, which is document-unique.\n",
    "\n",
    "So, when training the word vectors W, the document vector D is trained as well, and in the end of training, it holds a numeric representation of the document.\n",
    "\n",
    "The model below is called Distributed Memory version of Paragraph Vector (PV-DM). It acts as a memory that remembers what is missing from the current context — or as the topic of the paragraph. While the word vectors represent the concept of a word, the document vector intends to represent the concept of a document."
   ]
  },
  {
   "cell_type": "code",
   "execution_count": 34,
   "metadata": {},
   "outputs": [
    {
     "name": "stdout",
     "output_type": "stream",
     "text": [
      "doc2Vec\n"
     ]
    },
    {
     "data": {
      "image/png": "[encoded data removed]",
      "text/plain": [
       "<IPython.core.display.Image object>"
      ]
     },
     "execution_count": 34,
     "metadata": {},
     "output_type": "execute_result"
    }
   ],
   "source": [
    "print(\"doc2Vec\")\n",
    "from IPython.display import Image\n",
    "Image('/Users/Amir/PythonProjects/HotelRRDataset/doc2vec.png')"
   ]
  },
  {
   "cell_type": "code",
   "execution_count": 35,
   "metadata": {},
   "outputs": [],
   "source": [
    "from gensim.test.utils import common_texts\n",
    "from gensim.models.doc2vec import Doc2Vec, TaggedDocument"
   ]
  },
  {
   "cell_type": "code",
   "execution_count": 37,
   "metadata": {},
   "outputs": [
    {
     "name": "stdout",
     "output_type": "stream",
     "text": [
      "                                             Review_clean\n",
      "374688                        pillow nice welcome service\n",
      "404352  everything include nice upgrade hotel revamp s...\n"
     ]
    },
    {
     "data": {
      "text/plain": [
       "[TaggedDocument(words=[u'pillow', u'nice', u'welcome', u'service'], tags=[0]),\n",
       " TaggedDocument(words=[u'everything', u'include', u'nice', u'upgrade', u'hotel', u'revamp', u'surprise', u'love', u'every', u'second', u'include', u'room', u'dining', u'excellent'], tags=[1])]"
      ]
     },
     "execution_count": 37,
     "metadata": {},
     "output_type": "execute_result"
    }
   ],
   "source": [
    "# Make document for doc2vec\n",
    "documents = [TaggedDocument(doc, [i]) for i, doc in enumerate(reviews_SA[\"Review_clean\"].apply(lambda x: x.split(\" \")))]\n",
    "# Example of what above syntax produces  \n",
    "t = reviews_SA.iloc[2:4,2:3]\n",
    "print(t)\n",
    "documents = [TaggedDocument(doc, [i]) for i, doc in enumerate(t[\"Review_clean\"].apply(lambda x: x.split(\" \")))]\n",
    "documents"
   ]
  },
  {
   "cell_type": "code",
   "execution_count": 38,
   "metadata": {},
   "outputs": [],
   "source": [
    "# Train a Doc2Vec model with our text data \n",
    "\n",
    "# parameters:\n",
    "# ----> documents- Iterable of list of TaggedDocument\n",
    "# ----> vector_size- Dimensionality of the feature vectors\n",
    "# ----> window- The maximum distance between the current and predicted word within a sentence\n",
    "# ----> min_count- Ignores all words with total frequency lower than this\n",
    "# ----> workers- Use these many worker threads to train the model (=faster training with multicore machines)\n",
    "model = Doc2Vec(documents, vector_size=5, window=2, min_count=1, workers=4)"
   ]
  },
  {
   "cell_type": "code",
   "execution_count": 39,
   "metadata": {},
   "outputs": [],
   "source": [
    "# Transform each document into a vector data\n",
    "doc2vec_df = reviews_SA[\"Review_clean\"].apply(lambda x: model.infer_vector(x.split(\" \"))).apply(pd.Series)\n",
    "# add doc2vec results as columns to the dataframes\n",
    "doc2vec_df.columns = [\"doc2vec_vector_\" + str(x) for x in doc2vec_df.columns]\n",
    "reviews_SA = pd.concat([reviews_SA, doc2vec_df], axis=1)"
   ]
  },
  {
   "cell_type": "code",
   "execution_count": 32,
   "metadata": {},
   "outputs": [
    {
     "data": {
      "text/html": [
       "<div>\n",
       "<style scoped>\n",
       "    .dataframe tbody tr th:only-of-type {\n",
       "        vertical-align: middle;\n",
       "    }\n",
       "\n",
       "    .dataframe tbody tr th {\n",
       "        vertical-align: top;\n",
       "    }\n",
       "\n",
       "    .dataframe thead th {\n",
       "        text-align: right;\n",
       "    }\n",
       "</style>\n",
       "<table border=\"1\" class=\"dataframe\">\n",
       "  <thead>\n",
       "    <tr style=\"text-align: right;\">\n",
       "      <th></th>\n",
       "      <th>Review</th>\n",
       "      <th>Bad_Review?</th>\n",
       "      <th>Review_clean</th>\n",
       "      <th>compound</th>\n",
       "      <th>neg</th>\n",
       "      <th>neu</th>\n",
       "      <th>pos</th>\n",
       "      <th>N_ch</th>\n",
       "      <th>N_w</th>\n",
       "      <th>doc2vec_vector_0</th>\n",
       "      <th>doc2vec_vector_1</th>\n",
       "      <th>doc2vec_vector_2</th>\n",
       "      <th>doc2vec_vector_3</th>\n",
       "      <th>doc2vec_vector_4</th>\n",
       "    </tr>\n",
       "  </thead>\n",
       "  <tbody>\n",
       "    <tr>\n",
       "      <th>488440</th>\n",
       "      <td>Would have appreciated a shop in the hotel th...</td>\n",
       "      <td>0</td>\n",
       "      <td>would appreciate shop hotel sell drinking wate...</td>\n",
       "      <td>0.9924</td>\n",
       "      <td>0.049</td>\n",
       "      <td>0.617</td>\n",
       "      <td>0.334</td>\n",
       "      <td>599</td>\n",
       "      <td>113</td>\n",
       "      <td>0.049419</td>\n",
       "      <td>0.020219</td>\n",
       "      <td>0.098425</td>\n",
       "      <td>-0.085031</td>\n",
       "      <td>0.025994</td>\n",
       "    </tr>\n",
       "    <tr>\n",
       "      <th>274649</th>\n",
       "      <td>No tissue paper box was present at the room</td>\n",
       "      <td>0</td>\n",
       "      <td>tissue paper box present room</td>\n",
       "      <td>-0.2960</td>\n",
       "      <td>0.216</td>\n",
       "      <td>0.784</td>\n",
       "      <td>0.000</td>\n",
       "      <td>44</td>\n",
       "      <td>10</td>\n",
       "      <td>0.086795</td>\n",
       "      <td>0.056118</td>\n",
       "      <td>-0.074711</td>\n",
       "      <td>-0.026259</td>\n",
       "      <td>0.053609</td>\n",
       "    </tr>\n",
       "    <tr>\n",
       "      <th>374688</th>\n",
       "      <td>Pillows  Nice welcoming and service</td>\n",
       "      <td>0</td>\n",
       "      <td>pillow nice welcome service</td>\n",
       "      <td>0.6908</td>\n",
       "      <td>0.000</td>\n",
       "      <td>0.345</td>\n",
       "      <td>0.655</td>\n",
       "      <td>36</td>\n",
       "      <td>7</td>\n",
       "      <td>-0.092694</td>\n",
       "      <td>-0.055072</td>\n",
       "      <td>0.068251</td>\n",
       "      <td>0.003932</td>\n",
       "      <td>0.013604</td>\n",
       "    </tr>\n",
       "  </tbody>\n",
       "</table>\n",
       "</div>"
      ],
      "text/plain": [
       "                                                   Review  Bad_Review?  \\\n",
       "488440   Would have appreciated a shop in the hotel th...            0   \n",
       "274649        No tissue paper box was present at the room            0   \n",
       "374688                Pillows  Nice welcoming and service            0   \n",
       "\n",
       "                                             Review_clean  compound    neg  \\\n",
       "488440  would appreciate shop hotel sell drinking wate...    0.9924  0.049   \n",
       "274649                      tissue paper box present room   -0.2960  0.216   \n",
       "374688                        pillow nice welcome service    0.6908  0.000   \n",
       "\n",
       "          neu    pos  N_ch  N_w  doc2vec_vector_0  doc2vec_vector_1  \\\n",
       "488440  0.617  0.334   599  113          0.049419          0.020219   \n",
       "274649  0.784  0.000    44   10          0.086795          0.056118   \n",
       "374688  0.345  0.655    36    7         -0.092694         -0.055072   \n",
       "\n",
       "        doc2vec_vector_2  doc2vec_vector_3  doc2vec_vector_4  \n",
       "488440          0.098425         -0.085031          0.025994  \n",
       "274649         -0.074711         -0.026259          0.053609  \n",
       "374688          0.068251          0.003932          0.013604  "
      ]
     },
     "execution_count": 32,
     "metadata": {},
     "output_type": "execute_result"
    }
   ],
   "source": [
    "reviews_SA.head(3)"
   ]
  },
  {
   "cell_type": "markdown",
   "metadata": {},
   "source": [
    "## Part 3D: Statistical Features (TF-IDF) (fourth set of features)\n",
    "Term Frequency – Inverse Document Frequency (TF – IDF)is a weighted model commonly used for information retrieval problems. It aims to convert the text documents into vector models on the basis of occurrence of words in the documents without taking considering the exact ordering. For Example – let say there is a dataset of N text documents, In any document “D”, TF and IDF will be defined as:\n",
    "- Term Frequency (TF) – TF for a term “t” is defined as the count of a term “t” in a document “D”\n",
    "- Inverse Document Frequency (IDF) – IDF for a term is defined as logarithm of ratio of total documents available in the corpus and number of documents containing the term T.\n",
    "- TF-IDF – formula gives the relative importance of a term in a corpus (list of documents)\n",
    "\n",
    "But why not simply counting how many times each word appears in every document? The problem with this method is that it doesn't take into account the relative importance of words in the texts. A word that appears in almost every text would not likely bring useful information for analysis. On the contrary, rare words may have a lot more of meanings.\n",
    "\n",
    "The TF-IDF metric solves this problem:\n",
    "\n",
    "- TF computes the classic number of times the word appears in the text\n",
    "- IDF computes the relative importance of this word which depends on how many texts the word can be found"
   ]
  },
  {
   "cell_type": "code",
   "execution_count": 40,
   "metadata": {},
   "outputs": [],
   "source": [
    "from sklearn.feature_extraction.text import TfidfVectorizer"
   ]
  },
  {
   "cell_type": "code",
   "execution_count": 41,
   "metadata": {},
   "outputs": [],
   "source": [
    "# We add TF-IDF columns for every word that appear in at least 10 different texts to filter some of them and \n",
    "# reduce the size of the final output.\n",
    "tfidf = TfidfVectorizer(min_df = 10)\n",
    "tfidf_result = tfidf.fit_transform(reviews_SA[\"Review_clean\"]).toarray()\n",
    "tfidf_df = pd.DataFrame(tfidf_result, columns = tfidf.get_feature_names())\n",
    "tfidf_df.columns = [\"word_\" + str(x) for x in tfidf_df.columns]\n",
    "tfidf_df.index = reviews_SA.index\n",
    "reviews_SA = pd.concat([reviews_SA, tfidf_df], axis=1)"
   ]
  },
  {
   "cell_type": "code",
   "execution_count": 42,
   "metadata": {},
   "outputs": [
    {
     "data": {
      "text/html": [
       "<div>\n",
       "<style scoped>\n",
       "    .dataframe tbody tr th:only-of-type {\n",
       "        vertical-align: middle;\n",
       "    }\n",
       "\n",
       "    .dataframe tbody tr th {\n",
       "        vertical-align: top;\n",
       "    }\n",
       "\n",
       "    .dataframe thead th {\n",
       "        text-align: right;\n",
       "    }\n",
       "</style>\n",
       "<table border=\"1\" class=\"dataframe\">\n",
       "  <thead>\n",
       "    <tr style=\"text-align: right;\">\n",
       "      <th></th>\n",
       "      <th>Review</th>\n",
       "      <th>Bad_Review?</th>\n",
       "      <th>Review_clean</th>\n",
       "      <th>compound</th>\n",
       "      <th>neg</th>\n",
       "      <th>neu</th>\n",
       "      <th>pos</th>\n",
       "      <th>N_ch</th>\n",
       "      <th>N_w</th>\n",
       "      <th>doc2vec_vector_0</th>\n",
       "      <th>...</th>\n",
       "      <th>word_yet</th>\n",
       "      <th>word_yoghurt</th>\n",
       "      <th>word_yogurt</th>\n",
       "      <th>word_young</th>\n",
       "      <th>word_yr</th>\n",
       "      <th>word_yummy</th>\n",
       "      <th>word_zero</th>\n",
       "      <th>word_ziggo</th>\n",
       "      <th>word_zone</th>\n",
       "      <th>word_zuid</th>\n",
       "    </tr>\n",
       "  </thead>\n",
       "  <tbody>\n",
       "    <tr>\n",
       "      <th>488440</th>\n",
       "      <td>Would have appreciated a shop in the hotel th...</td>\n",
       "      <td>0</td>\n",
       "      <td>would appreciate shop hotel sell drinking wate...</td>\n",
       "      <td>0.9924</td>\n",
       "      <td>0.049</td>\n",
       "      <td>0.617</td>\n",
       "      <td>0.334</td>\n",
       "      <td>599</td>\n",
       "      <td>113</td>\n",
       "      <td>0.049419</td>\n",
       "      <td>...</td>\n",
       "      <td>0.0</td>\n",
       "      <td>0.0</td>\n",
       "      <td>0.0</td>\n",
       "      <td>0.0</td>\n",
       "      <td>0.0</td>\n",
       "      <td>0.0</td>\n",
       "      <td>0.0</td>\n",
       "      <td>0.0</td>\n",
       "      <td>0.0</td>\n",
       "      <td>0.0</td>\n",
       "    </tr>\n",
       "    <tr>\n",
       "      <th>274649</th>\n",
       "      <td>No tissue paper box was present at the room</td>\n",
       "      <td>0</td>\n",
       "      <td>tissue paper box present room</td>\n",
       "      <td>-0.2960</td>\n",
       "      <td>0.216</td>\n",
       "      <td>0.784</td>\n",
       "      <td>0.000</td>\n",
       "      <td>44</td>\n",
       "      <td>10</td>\n",
       "      <td>0.086795</td>\n",
       "      <td>...</td>\n",
       "      <td>0.0</td>\n",
       "      <td>0.0</td>\n",
       "      <td>0.0</td>\n",
       "      <td>0.0</td>\n",
       "      <td>0.0</td>\n",
       "      <td>0.0</td>\n",
       "      <td>0.0</td>\n",
       "      <td>0.0</td>\n",
       "      <td>0.0</td>\n",
       "      <td>0.0</td>\n",
       "    </tr>\n",
       "    <tr>\n",
       "      <th>374688</th>\n",
       "      <td>Pillows  Nice welcoming and service</td>\n",
       "      <td>0</td>\n",
       "      <td>pillow nice welcome service</td>\n",
       "      <td>0.6908</td>\n",
       "      <td>0.000</td>\n",
       "      <td>0.345</td>\n",
       "      <td>0.655</td>\n",
       "      <td>36</td>\n",
       "      <td>7</td>\n",
       "      <td>-0.092694</td>\n",
       "      <td>...</td>\n",
       "      <td>0.0</td>\n",
       "      <td>0.0</td>\n",
       "      <td>0.0</td>\n",
       "      <td>0.0</td>\n",
       "      <td>0.0</td>\n",
       "      <td>0.0</td>\n",
       "      <td>0.0</td>\n",
       "      <td>0.0</td>\n",
       "      <td>0.0</td>\n",
       "      <td>0.0</td>\n",
       "    </tr>\n",
       "  </tbody>\n",
       "</table>\n",
       "<p>3 rows × 3840 columns</p>\n",
       "</div>"
      ],
      "text/plain": [
       "                                                   Review  Bad_Review?  \\\n",
       "488440   Would have appreciated a shop in the hotel th...            0   \n",
       "274649        No tissue paper box was present at the room            0   \n",
       "374688                Pillows  Nice welcoming and service            0   \n",
       "\n",
       "                                             Review_clean  compound    neg  \\\n",
       "488440  would appreciate shop hotel sell drinking wate...    0.9924  0.049   \n",
       "274649                      tissue paper box present room   -0.2960  0.216   \n",
       "374688                        pillow nice welcome service    0.6908  0.000   \n",
       "\n",
       "          neu    pos  N_ch  N_w  doc2vec_vector_0    ...      word_yet  \\\n",
       "488440  0.617  0.334   599  113          0.049419    ...           0.0   \n",
       "274649  0.784  0.000    44   10          0.086795    ...           0.0   \n",
       "374688  0.345  0.655    36    7         -0.092694    ...           0.0   \n",
       "\n",
       "        word_yoghurt  word_yogurt  word_young  word_yr  word_yummy  word_zero  \\\n",
       "488440           0.0          0.0         0.0      0.0         0.0        0.0   \n",
       "274649           0.0          0.0         0.0      0.0         0.0        0.0   \n",
       "374688           0.0          0.0         0.0      0.0         0.0        0.0   \n",
       "\n",
       "        word_ziggo  word_zone  word_zuid  \n",
       "488440         0.0        0.0        0.0  \n",
       "274649         0.0        0.0        0.0  \n",
       "374688         0.0        0.0        0.0  \n",
       "\n",
       "[3 rows x 3840 columns]"
      ]
     },
     "execution_count": 42,
     "metadata": {},
     "output_type": "execute_result"
    }
   ],
   "source": [
    "reviews_SA.head(3)"
   ]
  },
  {
   "cell_type": "markdown",
   "metadata": {},
   "source": [
    "## Part 4: Review Sentiment Prediction\n",
    "\n",
    "First, choose which features we want to use to train our model. \n",
    "\n",
    "Second, split our data into two parts:\n",
    "- one to train our model\n",
    "- one to assess its performances\n",
    "\n",
    "Third, use a Random Forest (RF) classifier for our predictions."
   ]
  },
  {
   "cell_type": "markdown",
   "metadata": {},
   "source": [
    "## Part 4A: Feature Selection\n",
    "\n",
    "First, choose which features we want to use to train our model. "
   ]
  },
  {
   "cell_type": "code",
   "execution_count": 43,
   "metadata": {
    "ExecuteTime": {
     "end_time": "2018-09-14T14:51:57.953014Z",
     "start_time": "2018-09-14T14:51:57.945658Z"
    }
   },
   "outputs": [
    {
     "data": {
      "text/html": [
       "<div>\n",
       "<style scoped>\n",
       "    .dataframe tbody tr th:only-of-type {\n",
       "        vertical-align: middle;\n",
       "    }\n",
       "\n",
       "    .dataframe tbody tr th {\n",
       "        vertical-align: top;\n",
       "    }\n",
       "\n",
       "    .dataframe thead th {\n",
       "        text-align: right;\n",
       "    }\n",
       "</style>\n",
       "<table border=\"1\" class=\"dataframe\">\n",
       "  <thead>\n",
       "    <tr style=\"text-align: right;\">\n",
       "      <th></th>\n",
       "      <th>compound</th>\n",
       "      <th>neg</th>\n",
       "      <th>neu</th>\n",
       "      <th>pos</th>\n",
       "      <th>N_ch</th>\n",
       "      <th>N_w</th>\n",
       "      <th>doc2vec_vector_0</th>\n",
       "      <th>doc2vec_vector_1</th>\n",
       "      <th>doc2vec_vector_2</th>\n",
       "      <th>doc2vec_vector_3</th>\n",
       "      <th>...</th>\n",
       "      <th>word_yet</th>\n",
       "      <th>word_yoghurt</th>\n",
       "      <th>word_yogurt</th>\n",
       "      <th>word_young</th>\n",
       "      <th>word_yr</th>\n",
       "      <th>word_yummy</th>\n",
       "      <th>word_zero</th>\n",
       "      <th>word_ziggo</th>\n",
       "      <th>word_zone</th>\n",
       "      <th>word_zuid</th>\n",
       "    </tr>\n",
       "  </thead>\n",
       "  <tbody>\n",
       "    <tr>\n",
       "      <th>488440</th>\n",
       "      <td>0.9924</td>\n",
       "      <td>0.049</td>\n",
       "      <td>0.617</td>\n",
       "      <td>0.334</td>\n",
       "      <td>599</td>\n",
       "      <td>113</td>\n",
       "      <td>0.049419</td>\n",
       "      <td>0.020219</td>\n",
       "      <td>0.098425</td>\n",
       "      <td>-0.085031</td>\n",
       "      <td>...</td>\n",
       "      <td>0.0</td>\n",
       "      <td>0.0</td>\n",
       "      <td>0.0</td>\n",
       "      <td>0.0</td>\n",
       "      <td>0.0</td>\n",
       "      <td>0.0</td>\n",
       "      <td>0.0</td>\n",
       "      <td>0.0</td>\n",
       "      <td>0.0</td>\n",
       "      <td>0.0</td>\n",
       "    </tr>\n",
       "    <tr>\n",
       "      <th>274649</th>\n",
       "      <td>-0.2960</td>\n",
       "      <td>0.216</td>\n",
       "      <td>0.784</td>\n",
       "      <td>0.000</td>\n",
       "      <td>44</td>\n",
       "      <td>10</td>\n",
       "      <td>0.086795</td>\n",
       "      <td>0.056118</td>\n",
       "      <td>-0.074711</td>\n",
       "      <td>-0.026259</td>\n",
       "      <td>...</td>\n",
       "      <td>0.0</td>\n",
       "      <td>0.0</td>\n",
       "      <td>0.0</td>\n",
       "      <td>0.0</td>\n",
       "      <td>0.0</td>\n",
       "      <td>0.0</td>\n",
       "      <td>0.0</td>\n",
       "      <td>0.0</td>\n",
       "      <td>0.0</td>\n",
       "      <td>0.0</td>\n",
       "    </tr>\n",
       "    <tr>\n",
       "      <th>374688</th>\n",
       "      <td>0.6908</td>\n",
       "      <td>0.000</td>\n",
       "      <td>0.345</td>\n",
       "      <td>0.655</td>\n",
       "      <td>36</td>\n",
       "      <td>7</td>\n",
       "      <td>-0.092694</td>\n",
       "      <td>-0.055072</td>\n",
       "      <td>0.068251</td>\n",
       "      <td>0.003932</td>\n",
       "      <td>...</td>\n",
       "      <td>0.0</td>\n",
       "      <td>0.0</td>\n",
       "      <td>0.0</td>\n",
       "      <td>0.0</td>\n",
       "      <td>0.0</td>\n",
       "      <td>0.0</td>\n",
       "      <td>0.0</td>\n",
       "      <td>0.0</td>\n",
       "      <td>0.0</td>\n",
       "      <td>0.0</td>\n",
       "    </tr>\n",
       "  </tbody>\n",
       "</table>\n",
       "<p>3 rows × 3837 columns</p>\n",
       "</div>"
      ],
      "text/plain": [
       "        compound    neg    neu    pos  N_ch  N_w  doc2vec_vector_0  \\\n",
       "488440    0.9924  0.049  0.617  0.334   599  113          0.049419   \n",
       "274649   -0.2960  0.216  0.784  0.000    44   10          0.086795   \n",
       "374688    0.6908  0.000  0.345  0.655    36    7         -0.092694   \n",
       "\n",
       "        doc2vec_vector_1  doc2vec_vector_2  doc2vec_vector_3    ...      \\\n",
       "488440          0.020219          0.098425         -0.085031    ...       \n",
       "274649          0.056118         -0.074711         -0.026259    ...       \n",
       "374688         -0.055072          0.068251          0.003932    ...       \n",
       "\n",
       "        word_yet  word_yoghurt  word_yogurt  word_young  word_yr  word_yummy  \\\n",
       "488440       0.0           0.0          0.0         0.0      0.0         0.0   \n",
       "274649       0.0           0.0          0.0         0.0      0.0         0.0   \n",
       "374688       0.0           0.0          0.0         0.0      0.0         0.0   \n",
       "\n",
       "        word_zero  word_ziggo  word_zone  word_zuid  \n",
       "488440        0.0         0.0        0.0        0.0  \n",
       "274649        0.0         0.0        0.0        0.0  \n",
       "374688        0.0         0.0        0.0        0.0  \n",
       "\n",
       "[3 rows x 3837 columns]"
      ]
     },
     "execution_count": 43,
     "metadata": {},
     "output_type": "execute_result"
    }
   ],
   "source": [
    "no_feature = ['Bad_Review?','Review', 'Review_clean']\n",
    "features = [c for c in reviews_SA.columns if c not in no_feature]\n",
    "reviews_SAX = reviews_SA[features]\n",
    "reviews_SAY= reviews_SA['Bad_Review?']\n",
    "reviews_SAX.head(3)\n",
    "#reviews_SAY.head(3)"
   ]
  },
  {
   "cell_type": "code",
   "execution_count": 44,
   "metadata": {},
   "outputs": [
    {
     "name": "stdout",
     "output_type": "stream",
     "text": [
      "3837\n"
     ]
    },
    {
     "data": {
      "text/plain": [
       "['neg',\n",
       " 'neu',\n",
       " 'pos',\n",
       " 'N_ch',\n",
       " 'N_w',\n",
       " 'doc2vec_vector_0',\n",
       " 'doc2vec_vector_1',\n",
       " 'doc2vec_vector_2',\n",
       " 'doc2vec_vector_3',\n",
       " 'doc2vec_vector_4',\n",
       " 'word_abbey',\n",
       " 'word_ability',\n",
       " 'word_abit',\n",
       " 'word_able',\n",
       " 'word_abroad',\n",
       " 'word_abrupt',\n",
       " 'word_absence',\n",
       " 'word_absolute',\n",
       " 'word_absolutely']"
      ]
     },
     "execution_count": 44,
     "metadata": {},
     "output_type": "execute_result"
    }
   ],
   "source": [
    "print(len(features))\n",
    "features[1:20]"
   ]
  },
  {
   "cell_type": "code",
   "execution_count": 45,
   "metadata": {},
   "outputs": [
    {
     "data": {
      "text/plain": [
       "3840"
      ]
     },
     "execution_count": 45,
     "metadata": {},
     "output_type": "execute_result"
    }
   ],
   "source": [
    "len(reviews_SA.columns)"
   ]
  },
  {
   "cell_type": "code",
   "execution_count": 46,
   "metadata": {},
   "outputs": [
    {
     "name": "stdout",
     "output_type": "stream",
     "text": [
      "<class 'pandas.core.frame.DataFrame'>\n",
      "Int64Index: 51574 entries, 488440 to 273809\n",
      "Columns: 3837 entries, compound to word_zuid\n",
      "dtypes: float32(5), float64(3830), int64(2)\n",
      "memory usage: 1.5 GB\n"
     ]
    }
   ],
   "source": [
    "reviews_SAX.info()"
   ]
  },
  {
   "cell_type": "markdown",
   "metadata": {},
   "source": [
    "## Part 4B: Train the Model using Random Forest \n",
    "\n",
    "Second, split our data into two parts:\n",
    "\n",
    "- one to train our model\n",
    "- one to assess its performances\n",
    "\n",
    "Third, we use Random Forest(RF) classifier to cladssfiy reviews into positive and negative classes. \n",
    "RF is a supervised learning algorithm. It creates a forest and makes it somehow random. The \"forest\" it builds, is an ensemble of Decision Trees. The more trees it has, the more robust a forest is. Random forests creates decision trees on randomly selected data samples, gets prediction from each tree and selects the best solution by means of voting. It also provides a pretty good indicator of the feature importance.\n",
    "\n",
    "Advantages:\n",
    "- It does not suffer from the overfitting problem. The main reason is that it takes the average of all the predictions, which cancels out the biases.\n",
    "- Random forests is considered as a highly accurate and robust method because of the number of decision trees participating in the process\n",
    "\n",
    "Good ref: https://towardsdatascience.com/the-random-forest-algorithm-d457d499ffcd"
   ]
  },
  {
   "cell_type": "code",
   "execution_count": 48,
   "metadata": {},
   "outputs": [
    {
     "name": "stdout",
     "output_type": "stream",
     "text": [
      "Random Forest Classifier\n"
     ]
    },
    {
     "data": {
      "image/png": "[encoded data removed]",
      "text/plain": [
       "<IPython.core.display.Image object>"
      ]
     },
     "execution_count": 48,
     "metadata": {},
     "output_type": "execute_result"
    }
   ],
   "source": [
    "print(\"Random Forest Classifier\")\n",
    "from IPython.display import Image\n",
    "Image('/Users/Amir/PythonProjects/HotelRRDataset/RF.png')"
   ]
  },
  {
   "cell_type": "code",
   "execution_count": 47,
   "metadata": {},
   "outputs": [
    {
     "data": {
      "text/plain": [
       "RandomForestClassifier(bootstrap=True, class_weight=None, criterion='gini',\n",
       "            max_depth=None, max_features='auto', max_leaf_nodes=None,\n",
       "            min_impurity_decrease=0.0, min_impurity_split=None,\n",
       "            min_samples_leaf=1, min_samples_split=2,\n",
       "            min_weight_fraction_leaf=0.0, n_estimators=100, n_jobs=None,\n",
       "            oob_score=False, random_state=42, verbose=0, warm_start=False)"
      ]
     },
     "execution_count": 47,
     "metadata": {},
     "output_type": "execute_result"
    }
   ],
   "source": [
    "from sklearn.model_selection import train_test_split\n",
    "from sklearn.ensemble import RandomForestClassifier\n",
    "\n",
    "# creat taring and test datasets (80% and 20%)\n",
    "X_train, X_test, y_train, y_test = train_test_split(reviews_SAX, reviews_SAY, test_size = 0.20, random_state = 42)\n",
    "\n",
    "# train a random forest classifier\n",
    "# n_estimators hyperparameter is just the number of trees the algorithm builds before taking the maximum voting \n",
    "# or taking averages of predictions. A higher number increases the performance and makes the predictions more stable, \n",
    "# but it also slows down the computation\n",
    "rf = RandomForestClassifier(n_estimators = 100, random_state = 42)\n",
    "rf.fit(X_train, y_train)"
   ]
  },
  {
   "cell_type": "markdown",
   "metadata": {},
   "source": [
    "## Part 4C: Find Important Features\n",
    "We want to know which features are important to predict sentiments. A great quality of the random forest algorithm is that it is very easy to measure the relative importance of each feature on the prediction. \n",
    "\n",
    "Sklearn provides a great tool to measures a features importance by looking at how much the tree nodes, which use that feature, reduce impurity across all trees in the forest. It computes this score automatically for each feature after training and scales the results, so that the sum of all importance is equal to 1."
   ]
  },
  {
   "cell_type": "code",
   "execution_count": 62,
   "metadata": {},
   "outputs": [
    {
     "data": {
      "text/html": [
       "<div>\n",
       "<style scoped>\n",
       "    .dataframe tbody tr th:only-of-type {\n",
       "        vertical-align: middle;\n",
       "    }\n",
       "\n",
       "    .dataframe tbody tr th {\n",
       "        vertical-align: top;\n",
       "    }\n",
       "\n",
       "    .dataframe thead th {\n",
       "        text-align: right;\n",
       "    }\n",
       "</style>\n",
       "<table border=\"1\" class=\"dataframe\">\n",
       "  <thead>\n",
       "    <tr style=\"text-align: right;\">\n",
       "      <th></th>\n",
       "      <th>Feature</th>\n",
       "      <th>Importance</th>\n",
       "    </tr>\n",
       "  </thead>\n",
       "  <tbody>\n",
       "    <tr>\n",
       "      <th>0</th>\n",
       "      <td>compound</td>\n",
       "      <td>0.039506</td>\n",
       "    </tr>\n",
       "    <tr>\n",
       "      <th>3</th>\n",
       "      <td>pos</td>\n",
       "      <td>0.024446</td>\n",
       "    </tr>\n",
       "    <tr>\n",
       "      <th>1</th>\n",
       "      <td>neg</td>\n",
       "      <td>0.022683</td>\n",
       "    </tr>\n",
       "    <tr>\n",
       "      <th>4</th>\n",
       "      <td>N_ch</td>\n",
       "      <td>0.018442</td>\n",
       "    </tr>\n",
       "    <tr>\n",
       "      <th>2</th>\n",
       "      <td>neu</td>\n",
       "      <td>0.016446</td>\n",
       "    </tr>\n",
       "    <tr>\n",
       "      <th>6</th>\n",
       "      <td>doc2vec_vector_0</td>\n",
       "      <td>0.016359</td>\n",
       "    </tr>\n",
       "    <tr>\n",
       "      <th>5</th>\n",
       "      <td>N_w</td>\n",
       "      <td>0.015373</td>\n",
       "    </tr>\n",
       "    <tr>\n",
       "      <th>8</th>\n",
       "      <td>doc2vec_vector_2</td>\n",
       "      <td>0.015221</td>\n",
       "    </tr>\n",
       "    <tr>\n",
       "      <th>10</th>\n",
       "      <td>doc2vec_vector_4</td>\n",
       "      <td>0.015191</td>\n",
       "    </tr>\n",
       "    <tr>\n",
       "      <th>7</th>\n",
       "      <td>doc2vec_vector_1</td>\n",
       "      <td>0.014691</td>\n",
       "    </tr>\n",
       "    <tr>\n",
       "      <th>9</th>\n",
       "      <td>doc2vec_vector_3</td>\n",
       "      <td>0.014357</td>\n",
       "    </tr>\n",
       "    <tr>\n",
       "      <th>950</th>\n",
       "      <td>word_dirty</td>\n",
       "      <td>0.009670</td>\n",
       "    </tr>\n",
       "    <tr>\n",
       "      <th>2853</th>\n",
       "      <td>word_room</td>\n",
       "      <td>0.009591</td>\n",
       "    </tr>\n",
       "    <tr>\n",
       "      <th>285</th>\n",
       "      <td>word_bad</td>\n",
       "      <td>0.009344</td>\n",
       "    </tr>\n",
       "    <tr>\n",
       "      <th>2239</th>\n",
       "      <td>word_nothing</td>\n",
       "      <td>0.008660</td>\n",
       "    </tr>\n",
       "    <tr>\n",
       "      <th>1945</th>\n",
       "      <td>word_location</td>\n",
       "      <td>0.006715</td>\n",
       "    </tr>\n",
       "    <tr>\n",
       "      <th>2284</th>\n",
       "      <td>word_old</td>\n",
       "      <td>0.006530</td>\n",
       "    </tr>\n",
       "    <tr>\n",
       "      <th>3216</th>\n",
       "      <td>word_star</td>\n",
       "      <td>0.006515</td>\n",
       "    </tr>\n",
       "    <tr>\n",
       "      <th>3202</th>\n",
       "      <td>word_staff</td>\n",
       "      <td>0.006506</td>\n",
       "    </tr>\n",
       "    <tr>\n",
       "      <th>1639</th>\n",
       "      <td>word_hotel</td>\n",
       "      <td>0.006480</td>\n",
       "    </tr>\n",
       "  </tbody>\n",
       "</table>\n",
       "</div>"
      ],
      "text/plain": [
       "               Feature  Importance\n",
       "0             compound    0.039506\n",
       "3                  pos    0.024446\n",
       "1                  neg    0.022683\n",
       "4                 N_ch    0.018442\n",
       "2                  neu    0.016446\n",
       "6     doc2vec_vector_0    0.016359\n",
       "5                  N_w    0.015373\n",
       "8     doc2vec_vector_2    0.015221\n",
       "10    doc2vec_vector_4    0.015191\n",
       "7     doc2vec_vector_1    0.014691\n",
       "9     doc2vec_vector_3    0.014357\n",
       "950         word_dirty    0.009670\n",
       "2853         word_room    0.009591\n",
       "285           word_bad    0.009344\n",
       "2239      word_nothing    0.008660\n",
       "1945     word_location    0.006715\n",
       "2284          word_old    0.006530\n",
       "3216         word_star    0.006515\n",
       "3202        word_staff    0.006506\n",
       "1639        word_hotel    0.006480"
      ]
     },
     "execution_count": 62,
     "metadata": {},
     "output_type": "execute_result"
    }
   ],
   "source": [
    "feature_imp = pd.DataFrame({'Feature':features, 'Importance': rf.feature_importances_}).sort_values('Importance', ascending = False)\n",
    "key_features = feature_imp.head(20)\n",
    "key_features\n"
   ]
  },
  {
   "cell_type": "code",
   "execution_count": 65,
   "metadata": {},
   "outputs": [
    {
     "name": "stderr",
     "output_type": "stream",
     "text": [
      "/anaconda3/anaconda3/lib/python2.7/site-packages/matplotlib/axes/_axes.py:545: UserWarning: No labelled objects found. Use label='...' kwarg on individual plots.\n",
      "  warnings.warn(\"No labelled objects found. \"\n"
     ]
    },
    {
     "data": {
      "image/png": "[encoded data removed]",
      "text/plain": [
       "<matplotlib.figure.Figure at 0x1a47e3d390>"
      ]
     },
     "metadata": {
      "needs_background": "light"
     },
     "output_type": "display_data"
    }
   ],
   "source": [
    "# Visulaize important feature \n",
    "# Creating a bar plot\n",
    "sns.barplot(x=key_features['Importance'], y=key_features['Feature'])\n",
    "# Add labels to your graph\n",
    "plt.xlabel('Feature Importance Score')\n",
    "plt.ylabel('Features')\n",
    "plt.title(\"Visualizing Important Features\")\n",
    "plt.legend()"
   ]
  },
  {
   "cell_type": "code",
   "execution_count": 49,
   "metadata": {
    "scrolled": true
   },
   "outputs": [
    {
     "name": "stdout",
     "output_type": "stream",
     "text": [
      "The most important features are indeed the ones that come from the previous sentiment analysis. The vector representations of the texts also have a lot of importance in our training. Some words appear to have a fairly good importance as well.\n"
     ]
    }
   ],
   "source": [
    "print(\"The most important features are indeed the ones that come from the previous sentiment analysis. \\\n",
    "The vector representations of the texts also have a lot of importance in our training. \\\n",
    "Some words appear to have a fairly good importance as well.\")"
   ]
  },
  {
   "cell_type": "markdown",
   "metadata": {},
   "source": [
    "## Part 5: Predicition Quality\n"
   ]
  },
  {
   "cell_type": "markdown",
   "metadata": {},
   "source": [
    "## Part 5A: Classifier Accuracy\n"
   ]
  },
  {
   "cell_type": "code",
   "execution_count": 88,
   "metadata": {},
   "outputs": [
    {
     "name": "stdout",
     "output_type": "stream",
     "text": [
      "('Accuracy:', 0.9562772661173049)\n"
     ]
    }
   ],
   "source": [
    "# Calculating accurcy using test dataset\n",
    "y_prediction=rf.predict(X_test)\n",
    "from sklearn import metrics\n",
    "print(\"Accuracy:\",metrics.accuracy_score(y_test, y_prediction))"
   ]
  },
  {
   "cell_type": "markdown",
   "metadata": {},
   "source": [
    "## Part 5B: AUC PR (Area Under the Curve Precision Recall)\n",
    "\n",
    "The precision-recall curve shows the tradeoff between precision and recall for different threshold. A high area under the curve represents both high recall and high precision. A balance of these two concerns can be chosen by the operator of the model.\n",
    "High precision relates to a low false positive rate (Predict an event when there was no event), and high recall relates to a low false negative rate (Predict no event when in fact there was an event.)\n"
   ]
  },
  {
   "cell_type": "code",
   "execution_count": 89,
   "metadata": {},
   "outputs": [
    {
     "name": "stdout",
     "output_type": "stream",
     "text": [
      "Average precision score: 0.36\n"
     ]
    }
   ],
   "source": [
    "from sklearn.metrics import average_precision_score\n",
    "\n",
    "y_pred = [x[1] for x in rf.predict_proba(X_test)]\n",
    "\n",
    "# calculate precision\n",
    "\n",
    "# Precision is defined as the number of true positives divided to the number of true positives \n",
    "# plus the number of false positives.\n",
    "# average_precision_score function summarizes a precision-recall curve as the weighted mean of precisions achieved \n",
    "# at each threshold, with the increase in recall from the previous threshold used as the weight\n",
    "average_precision = average_precision_score(y_test, y_pred)\n",
    "print('Average precision score: {0:0.2f}'.format(average_precision))"
   ]
  },
  {
   "cell_type": "code",
   "execution_count": 91,
   "metadata": {},
   "outputs": [
    {
     "data": {
      "text/plain": [
       "<matplotlib.text.Text at 0x12ae22b90>"
      ]
     },
     "execution_count": 91,
     "metadata": {},
     "output_type": "execute_result"
    },
    {
     "data": {
      "image/png": "[encoded data removed]",
      "text/plain": [
       "<matplotlib.figure.Figure at 0x12fd464d0>"
      ]
     },
     "metadata": {
      "needs_background": "light"
     },
     "output_type": "display_data"
    }
   ],
   "source": [
    "# Plot the Precision-Recall curve\n",
    "from sklearn.metrics import average_precision_score, precision_recall_curve\n",
    "from sklearn.utils.fixes import signature\n",
    "\n",
    "# Recall is defined as the number of true positives divided to the number of true positives \n",
    "# plus the number of false negatives.\n",
    "precision, recall, _ = precision_recall_curve(y_test, y_pred)\n",
    "\n",
    "step_kwargs = ({'step': 'post'} if 'step' in signature(plt.fill_between).parameters else {})\n",
    "\n",
    "plt.figure(1, figsize = (15, 10))\n",
    "plt.step(recall, precision, color='b', alpha=0.2,where='post')\n",
    "plt.fill_between(recall, precision, alpha=0.2, color='b', **step_kwargs)\n",
    "\n",
    "plt.xlabel('Recall')\n",
    "plt.ylabel('Precision')\n",
    "plt.ylim([0.0, 1.05])\n",
    "plt.xlim([0.0, 1.0])\n",
    "plt.title('2-class Precision-Recall curve: AP={0:0.2f}'.format(average_precision))"
   ]
  },
  {
   "cell_type": "code",
   "execution_count": 3,
   "metadata": {},
   "outputs": [
    {
     "ename": "NameError",
     "evalue": "name 'y_test' is not defined",
     "output_type": "error",
     "traceback": [
      "\u001b[0;31m---------------------------------------------------------------------------\u001b[0m",
      "\u001b[0;31mNameError\u001b[0m                                 Traceback (most recent call last)",
      "\u001b[0;32m<ipython-input-3-49c1c317b01c>\u001b[0m in \u001b[0;36m<module>\u001b[0;34m()\u001b[0m\n\u001b[1;32m      1\u001b[0m \u001b[0;32mfrom\u001b[0m \u001b[0msklearn\u001b[0m\u001b[0;34m.\u001b[0m\u001b[0mmetrics\u001b[0m \u001b[0;32mimport\u001b[0m \u001b[0mf1_score\u001b[0m\u001b[0;34m\u001b[0m\u001b[0m\n\u001b[0;32m----> 2\u001b[0;31m \u001b[0mf_one\u001b[0m \u001b[0;34m=\u001b[0m\u001b[0mf1_score\u001b[0m\u001b[0;34m(\u001b[0m\u001b[0my_test\u001b[0m\u001b[0;34m,\u001b[0m \u001b[0my_pred\u001b[0m\u001b[0;34m)\u001b[0m\u001b[0;34m\u001b[0m\u001b[0m\n\u001b[0m\u001b[1;32m      3\u001b[0m \u001b[0mf_one\u001b[0m\u001b[0;34m\u001b[0m\u001b[0m\n",
      "\u001b[0;31mNameError\u001b[0m: name 'y_test' is not defined"
     ]
    }
   ],
   "source": [
    "from sklearn.metrics import f1_score\n",
    "f_one =f1_score(y_test, y_pred)\n",
    "f_one"
   ]
  },
  {
   "cell_type": "code",
   "execution_count": null,
   "metadata": {},
   "outputs": [],
   "source": []
  }
 ],
 "metadata": {
  "kernelspec": {
   "display_name": "Python 2",
   "language": "python",
   "name": "python2"
  },
  "language_info": {
   "codemirror_mode": {
    "name": "ipython",
    "version": 2
   },
   "file_extension": ".py",
   "mimetype": "text/x-python",
   "name": "python",
   "nbconvert_exporter": "python",
   "pygments_lexer": "ipython2",
   "version": "2.7.16"
  }
 },
 "nbformat": 4,
 "nbformat_minor": 2
}
