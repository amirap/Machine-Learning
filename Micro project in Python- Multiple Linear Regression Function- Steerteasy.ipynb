{
 "cells": [
  {
   "cell_type": "markdown",
   "metadata": {},
   "source": [
    "# Project: Multiple Linear Regression Function for StreetEasy Dataset \n",
    "\n",
    "In this project, we want to investigate a real dataset by StreetEasy, a New York City’s leading real estate marketplace. The dataset contains a sample of rentals listings in Manhattan, active on StreetEasy in June 2016. We would like to explore correlations between several features and the rent, build/evaluate.\n",
    "\n",
    "Questions to answer: \n",
    "“Does having a washer/dryer in unit increase the price of rent?”\n",
    "“How costly is living by a subway station in Brooklyn/Queens?”\n",
    "\"And most importantly, “Is a tenant over or underpaying?”"
   ]
  },
  {
   "cell_type": "code",
   "execution_count": 11,
   "metadata": {},
   "outputs": [],
   "source": [
    "import matplotlib.pyplot as plt\n",
    "import pandas as pd\n",
    "import numpy as np\n",
    "from sklearn import linear_model\n",
    "from sklearn.linear_model import LinearRegression\n",
    "from sklearn.model_selection import train_test_split"
   ]
  },
  {
   "cell_type": "markdown",
   "metadata": {},
   "source": [
    "## Part 1: Import and slice the dataset"
   ]
  },
  {
   "cell_type": "code",
   "execution_count": 9,
   "metadata": {},
   "outputs": [
    {
     "name": "stdout",
     "output_type": "stream",
     "text": [
      "   rental_id   rent  bedrooms  bathrooms  size_sqft  min_to_subway  floor  \\\n",
      "0       1545   2550       0.0          1        480              9    2.0   \n",
      "1       2472  11500       2.0          2       2000              4    1.0   \n",
      "2       2919   4500       1.0          1        916              2   51.0   \n",
      "\n",
      "   building_age_yrs  no_fee  has_roofdeck  has_washer_dryer  has_doorman  \\\n",
      "0                17       1             1                 0            0   \n",
      "1                96       0             0                 0            0   \n",
      "2                29       0             1                 0            1   \n",
      "\n",
      "   has_elevator  has_dishwasher  has_patio  has_gym       neighborhood  \\\n",
      "0             1               1          0        1    Upper East Side   \n",
      "1             0               0          0        0  Greenwich Village   \n",
      "2             1               1          0        0            Midtown   \n",
      "\n",
      "     borough  \n",
      "0  Manhattan  \n",
      "1  Manhattan  \n",
      "2  Manhattan  \n",
      "<class 'pandas.core.frame.DataFrame'>\n",
      "RangeIndex: 3539 entries, 0 to 3538\n",
      "Data columns (total 18 columns):\n",
      "rental_id           3539 non-null int64\n",
      "rent                3539 non-null int64\n",
      "bedrooms            3539 non-null float64\n",
      "bathrooms           3539 non-null int64\n",
      "size_sqft           3539 non-null int64\n",
      "min_to_subway       3539 non-null int64\n",
      "floor               3539 non-null float64\n",
      "building_age_yrs    3539 non-null int64\n",
      "no_fee              3539 non-null int64\n",
      "has_roofdeck        3539 non-null int64\n",
      "has_washer_dryer    3539 non-null int64\n",
      "has_doorman         3539 non-null int64\n",
      "has_elevator        3539 non-null int64\n",
      "has_dishwasher      3539 non-null int64\n",
      "has_patio           3539 non-null int64\n",
      "has_gym             3539 non-null int64\n",
      "neighborhood        3539 non-null object\n",
      "borough             3539 non-null object\n",
      "dtypes: float64(2), int64(14), object(2)\n",
      "memory usage: 497.8+ KB\n"
     ]
    }
   ],
   "source": [
    "df = pd.read_csv(\"Micro project in Python- Multiple Linear Regression- Streeteasy Manhattan Dataset.csv\")\n",
    "print(df.head(3))\n",
    "df.info()\n",
    "# load the dataframe and define independent and dependent variables \n",
    "df = pd.DataFrame(df)\n",
    "x = df[['bedrooms','bathrooms','size_sqft','min_to_subway','floor','building_age_yrs','no_fee','has_roofdeck','has_washer_dryer','has_doorman','has_elevator','has_dishwasher','has_patio','has_gym']]\n",
    "y = df[['rent']]\n"
   ]
  },
  {
   "cell_type": "markdown",
   "metadata": {},
   "source": [
    "## Part 2: Training and test datasets"
   ]
  },
  {
   "cell_type": "code",
   "execution_count": 12,
   "metadata": {},
   "outputs": [],
   "source": [
    "# split x into 80% training set and 20% testing set\n",
    "x_train, x_test, y_train, y_test = train_test_split(x, y, train_size=0.8, test_size=0.2, random_state=6)"
   ]
  },
  {
   "cell_type": "code",
   "execution_count": 22,
   "metadata": {},
   "outputs": [
    {
     "data": {
      "image/png": "[encoded data removed]",
      "text/plain": [
       "<Figure size 432x288 with 1 Axes>"
      ]
     },
     "metadata": {
      "needs_background": "light"
     },
     "output_type": "display_data"
    }
   ],
   "source": [
    "plt.plot(X, y, \"o\")\n",
    "plt.plot(X, y_predict_1, \"o\")\n",
    "plt.show()"
   ]
  },
  {
   "cell_type": "markdown",
   "metadata": {},
   "source": [
    "## Part 3: Create a a linear regression model using Scikit-learn"
   ]
  },
  {
   "cell_type": "code",
   "execution_count": 24,
   "metadata": {},
   "outputs": [
    {
     "data": {
      "image/png": "[encoded data removed]",
      "text/plain": [
       "<Figure size 432x288 with 1 Axes>"
      ]
     },
     "metadata": {
      "needs_background": "light"
     },
     "output_type": "display_data"
    }
   ],
   "source": [
    "regr = LinearRegression()\n",
    "regr.fit(X,y)\n",
    "#print(regr.coef_[0])\n",
    "y_predict = regr.predict(X)\n",
    "\n",
    "plt.plot(X, y, \"o\")\n",
    "plt.plot(X, y_predict, \"o\")\n",
    "plt.show()"
   ]
  },
  {
   "cell_type": "markdown",
   "metadata": {},
   "source": [
    "## Part 4: Predict the honey production in upcoming years"
   ]
  },
  {
   "cell_type": "code",
   "execution_count": 26,
   "metadata": {},
   "outputs": [
    {
     "data": {
      "image/png": "[encoded data removed]",
      "text/plain": [
       "<Figure size 432x288 with 1 Axes>"
      ]
     },
     "metadata": {
      "needs_background": "light"
     },
     "output_type": "display_data"
    }
   ],
   "source": [
    "# Predict the Honey Decline\n",
    "X_future = np.array(range(2013,2050))\n",
    "X_future = X_future.reshape(-1,1)\n",
    "future_predict = regr.predict(X_future)\n",
    "\n",
    "plt.plot(X_future, future_predict, \"o\")\n",
    "plt.plot(X, y, \"o\")\n",
    "plt.plot(X, y_predict, \"o\")\n",
    "plt.show()"
   ]
  },
  {
   "cell_type": "markdown",
   "metadata": {},
   "source": [
    "\n"
   ]
  }
 ],
 "metadata": {
  "kernelspec": {
   "display_name": "Python 3",
   "language": "python",
   "name": "python3"
  },
  "language_info": {
   "codemirror_mode": {
    "name": "ipython",
    "version": 3
   },
   "file_extension": ".py",
   "mimetype": "text/x-python",
   "name": "python",
   "nbconvert_exporter": "python",
   "pygments_lexer": "ipython3",
   "version": "3.7.1"
  }
 },
 "nbformat": 4,
 "nbformat_minor": 2
}
