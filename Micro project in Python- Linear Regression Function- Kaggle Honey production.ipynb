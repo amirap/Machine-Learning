{
 "cells": [
  {
   "cell_type": "markdown",
   "metadata": {},
   "source": [
    "# Project: Linear Regression Function for Honeybees Population \n",
    "\n",
    "In this project, we want to investigate a Kaggle dataset to explore the decline of honeybees population and how the trends of the past predict the future for the honeybees."
   ]
  },
  {
   "cell_type": "code",
   "execution_count": 4,
   "metadata": {},
   "outputs": [],
   "source": [
    "import matplotlib.pyplot as plt\n",
    "import pandas as pd"
   ]
  },
  {
   "cell_type": "markdown",
   "metadata": {},
   "source": [
    "## Part 1: Import and slice the dataset"
   ]
  },
  {
   "cell_type": "code",
   "execution_count": 10,
   "metadata": {},
   "outputs": [
    {
     "name": "stdout",
     "output_type": "stream",
     "text": [
      "  state   numcol  yieldpercol  totalprod     stocks  priceperlb  prodvalue  \\\n",
      "0    AL  16000.0           71  1136000.0   159000.0        0.72   818000.0   \n",
      "1    AZ  55000.0           60  3300000.0  1485000.0        0.64  2112000.0   \n",
      "2    AR  53000.0           65  3445000.0  1688000.0        0.59  2033000.0   \n",
      "\n",
      "   year  \n",
      "0  1998  \n",
      "1  1998  \n",
      "2  1998  \n",
      "   year     totalprod\n",
      "0  1998  5.105093e+06\n",
      "1  1999  4.706674e+06\n",
      "2  2000  5.106000e+06\n",
      "3  2001  4.221545e+06\n",
      "4  2002  3.892386e+06\n"
     ]
    },
    {
     "data": {
      "image/png": "[encoded data removed]",
      "text/plain": [
       "<Figure size 432x288 with 1 Axes>"
      ]
     },
     "metadata": {
      "needs_background": "light"
     },
     "output_type": "display_data"
    }
   ],
   "source": [
    "df = pd.read_csv(\"Micro project in Python- Linear Regression Function- Kaggle Honey production Dataset.csv\")\n",
    "print(df.head(3))\n",
    "\n",
    "# The total production of honey per year\n",
    "prod_per_year = df.groupby('year').totalprod.mean().reset_index()\n",
    "print(prod_per_year.head(5))\n",
    "\n",
    "# Creating our X and Y datasets for the linear regression \n",
    "X = prod_per_year['year']\n",
    "X = X.values.reshape(-1, 1)\n",
    "y = prod_per_year['totalprod']\n",
    "\n",
    "# Inspect the data to see if there is a vaguely linear relationship between these variables \n",
    "plt.plot(X, y, \"o\")\n",
    "plt.show()"
   ]
  },
  {
   "cell_type": "code",
   "execution_count": null,
   "metadata": {},
   "outputs": [],
   "source": []
  },
  {
   "cell_type": "markdown",
   "metadata": {},
   "source": [
    "## Part 3: calculate optimal intercept and slope "
   ]
  },
  {
   "cell_type": "code",
   "execution_count": 8,
   "metadata": {},
   "outputs": [],
   "source": [
    "# import gradient_descent funtion from Micro_project_in_Python_Linear_Regression_Function\n",
    "#from ipynb.fs.full.Micro_project_in_Python_Linear_Regression_Function import gradient_descent\n",
    "#(b,m) = gradient_descent(X,y,0.0001,1000)\n",
    "#y_predict = [m*x + b for x in X]"
   ]
  },
  {
   "cell_type": "markdown",
   "metadata": {},
   "source": [
    "## Part 3: Plot"
   ]
  },
  {
   "cell_type": "code",
   "execution_count": 7,
   "metadata": {},
   "outputs": [],
   "source": [
    "#plt.plot(X, y, \"o\")\n",
    "#plt.plot(X, y_predict, \"o\")\n",
    "#plt.show()"
   ]
  },
  {
   "cell_type": "markdown",
   "metadata": {},
   "source": [
    "\n"
   ]
  }
 ],
 "metadata": {
  "kernelspec": {
   "display_name": "Python 3",
   "language": "python",
   "name": "python3"
  },
  "language_info": {
   "codemirror_mode": {
    "name": "ipython",
    "version": 3
   },
   "file_extension": ".py",
   "mimetype": "text/x-python",
   "name": "python",
   "nbconvert_exporter": "python",
   "pygments_lexer": "ipython3",
   "version": "3.7.1"
  }
 },
 "nbformat": 4,
 "nbformat_minor": 2
}
