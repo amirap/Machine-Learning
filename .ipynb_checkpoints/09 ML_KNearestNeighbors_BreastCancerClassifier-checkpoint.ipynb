{
 "cells": [
  {
   "cell_type": "markdown",
   "metadata": {},
   "source": [
    "# Project: Breast Cancer Classifier\n",
    "In this project, we will be using several Python libraries to make a K-Nearest Neighbor classifier that is trained to predict whether a patient has breast cancer\n"
   ]
  },
  {
   "cell_type": "markdown",
   "metadata": {},
   "source": [
    "## Part 1: Load and explore the data"
   ]
  },
  {
   "cell_type": "code",
   "execution_count": null,
   "metadata": {
    "scrolled": true
   },
   "outputs": [],
   "source": [
    "from sklearn.datasets import  load_breast_cancer\n",
    "\n",
    "breast_cancer_data = load_breast_cancer()\n",
    "# explore data\n",
    "print(breast_cancer_data.data[0])\n",
    "print(breast_cancer_data.feature_names)\n",
    "\n",
    "print(breast_cancer_data.target)\n",
    "print(breast_cancer_data.target_names)"
   ]
  },
  {
   "cell_type": "markdown",
   "metadata": {},
   "source": [
    "## Part 2: Data Segregation"
   ]
  },
  {
   "cell_type": "code",
   "execution_count": null,
   "metadata": {},
   "outputs": [],
   "source": [
    "from sklearn.model_selection import train_test_split\n",
    "# The data you want to split: breast_cancer_data.data\n",
    "# The labels associated with that data:breast_cancer_data.target\n",
    "# random_state. This will ensure that every time you run your code, the data is split in the same way\n",
    "training_data, validation_data, training_labels, validation_labels = train_test_split(breast_cancer_data.data, breast_cancer_data.target, test_size = 0.2, random_state = 100)\n"
   ]
  },
  {
   "cell_type": "markdown",
   "metadata": {},
   "source": [
    "## Part 3: N-Neighbor Calssifier"
   ]
  },
  {
   "cell_type": "code",
   "execution_count": null,
   "metadata": {},
   "outputs": [],
   "source": [
    "# N-Neighbor Calssifier and best K \n",
    "from sklearn.neighbors import KNeighborsClassifier\n",
    "\n",
    "# create valriables for K and accuracy \n",
    "accuracies = []\n",
    "k_list = range (1,101)\n",
    "\n",
    "# create the classifier \n",
    "for k in k_list:\n",
    "    classifier = KNeighborsClassifier (n_neighbors = k)\n",
    "# train the classifier\n",
    "    classifier.fit(training_data, training_labels)\n",
    "# calculate the accuracy\n",
    "    accuracies.append(classifier.score(validation_data,validation_labels))\n",
    "    print(accuracies)\n",
    "    "
   ]
  },
  {
   "cell_type": "markdown",
   "metadata": {},
   "source": [
    "## Part 4: Find the best K "
   ]
  },
  {
   "cell_type": "code",
   "execution_count": null,
   "metadata": {
    "scrolled": true
   },
   "outputs": [],
   "source": [
    "# Find the best K\n",
    "import matplotlib.pyplot as plt\n",
    "len(accuracies)\n",
    "plt.plot(k_list, accuracies)\n",
    "plt.xlabel('K')\n",
    "plt.ylabel('Validation Accuracy')\n",
    "plt.title('Breast Cancer Classifier Accuracy')\n",
    "plt.show()"
   ]
  }
 ],
 "metadata": {
  "kernelspec": {
   "display_name": "Python 2",
   "language": "python",
   "name": "python2"
  },
  "language_info": {
   "codemirror_mode": {
    "name": "ipython",
    "version": 2
   },
   "file_extension": ".py",
   "mimetype": "text/x-python",
   "name": "python",
   "nbconvert_exporter": "python",
   "pygments_lexer": "ipython2",
   "version": "2.7.16"
  }
 },
 "nbformat": 4,
 "nbformat_minor": 2
}
