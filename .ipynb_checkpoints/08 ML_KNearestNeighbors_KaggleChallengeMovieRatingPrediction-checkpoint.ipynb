{
 "cells": [
  {
   "cell_type": "markdown",
   "metadata": {},
   "source": [
    "# Project: Kaggle Challenge Movie Rating Prediction \n",
    "In this project, we write a K-Nearest Neighbor algorithm to predict IMDB rating of movies. We use a dataset Kaggle that contains 28 variables for 5043 movies, spanning across 100 years in 66 countries. \n",
    "We write our K-Nearest Neighbor algorithm from scratch without using built-in libraries.\n",
    "We’ll implement the three steps of the K-Nearest Neighbor Algorithm:\n",
    "- Normalize the data\n",
    "- Find the k nearest neighbors\n",
    "- Classify the new point based on those neighbors"
   ]
  },
  {
   "cell_type": "code",
   "execution_count": 27,
   "metadata": {},
   "outputs": [],
   "source": [
    "import pandas as pd"
   ]
  },
  {
   "cell_type": "markdown",
   "metadata": {},
   "source": [
    "## Part 1: Load the data"
   ]
  },
  {
   "cell_type": "code",
   "execution_count": 39,
   "metadata": {
    "scrolled": true
   },
   "outputs": [
    {
     "name": "stdout",
     "output_type": "stream",
     "text": [
      "<class 'pandas.core.frame.DataFrame'>\n",
      "Int64Index: 4798 entries, 4447 to 882\n",
      "Data columns (total 28 columns):\n",
      "color                        4779 non-null object\n",
      "director_name                4698 non-null object\n",
      "num_critic_for_reviews       4750 non-null float64\n",
      "duration                     4783 non-null float64\n",
      "director_facebook_likes      4698 non-null float64\n",
      "actor_3_facebook_likes       4775 non-null float64\n",
      "actor_2_name                 4785 non-null object\n",
      "actor_1_facebook_likes       4791 non-null float64\n",
      "gross                        3956 non-null float64\n",
      "genres                       4798 non-null object\n",
      "actor_1_name                 4791 non-null object\n",
      "movie_title                  4798 non-null object\n",
      "num_voted_users              4798 non-null int64\n",
      "cast_total_facebook_likes    4798 non-null int64\n",
      "actor_3_name                 4775 non-null object\n",
      "facenumber_in_poster         4785 non-null float64\n",
      "plot_keywords                4648 non-null object\n",
      "movie_imdb_link              4798 non-null object\n",
      "num_user_for_reviews         4777 non-null float64\n",
      "language                     4786 non-null object\n",
      "country                      4793 non-null object\n",
      "content_rating               4500 non-null object\n",
      "budget                       4322 non-null float64\n",
      "title_year                   4694 non-null float64\n",
      "actor_2_facebook_likes       4785 non-null float64\n",
      "imdb_score                   4798 non-null float64\n",
      "aspect_ratio                 4475 non-null float64\n",
      "movie_facebook_likes         4798 non-null int64\n",
      "dtypes: float64(13), int64(3), object(12)\n",
      "memory usage: 1.1+ MB\n"
     ]
    }
   ],
   "source": [
    "# https://www.kaggle.com/carolzhangdc/predict-imdb-score-with-data-mining-algorithms\n",
    "# The dataset is from Kaggle website. It contains 28 variables for 5043 movies, spanning across 100 years in 66 countries. \n",
    "df = pd.read_csv('08 ML_KNearestNeighbors_KaggleChallengeMovieRatingPredictionDataset.csv')\n",
    "\n",
    "# sorting by movie name \n",
    "df.sort_values(\"movie_title\", inplace = True) \n",
    "\n",
    "# dropping ALL duplicte values \n",
    "df.drop_duplicates(subset =\"movie_title\", keep = False, inplace = True) \n",
    "\n",
    "df.info()\n"
   ]
  },
  {
   "cell_type": "markdown",
   "metadata": {},
   "source": [
    "## Part 2: Clean the data"
   ]
  },
  {
   "cell_type": "code",
   "execution_count": 41,
   "metadata": {},
   "outputs": [
    {
     "data": {
      "text/html": [
       "<div>\n",
       "<style scoped>\n",
       "    .dataframe tbody tr th:only-of-type {\n",
       "        vertical-align: middle;\n",
       "    }\n",
       "\n",
       "    .dataframe tbody tr th {\n",
       "        vertical-align: top;\n",
       "    }\n",
       "\n",
       "    .dataframe thead th {\n",
       "        text-align: right;\n",
       "    }\n",
       "</style>\n",
       "<table border=\"1\" class=\"dataframe\">\n",
       "  <thead>\n",
       "    <tr style=\"text-align: right;\">\n",
       "      <th></th>\n",
       "      <th>movie_title</th>\n",
       "      <th>duration</th>\n",
       "      <th>actor_1_facebook_likes</th>\n",
       "      <th>num_critic_for_reviews</th>\n",
       "      <th>budget</th>\n",
       "      <th>gross</th>\n",
       "      <th>title_year</th>\n",
       "      <th>movie_facebook_likes</th>\n",
       "    </tr>\n",
       "  </thead>\n",
       "  <tbody>\n",
       "    <tr>\n",
       "      <th>4447</th>\n",
       "      <td>#Horror</td>\n",
       "      <td>101.0</td>\n",
       "      <td>501.0</td>\n",
       "      <td>35.0</td>\n",
       "      <td>1500000.0</td>\n",
       "      <td>NaN</td>\n",
       "      <td>2015.0</td>\n",
       "      <td>750</td>\n",
       "    </tr>\n",
       "    <tr>\n",
       "      <th>3698</th>\n",
       "      <td>10 Cloverfield Lane</td>\n",
       "      <td>104.0</td>\n",
       "      <td>14000.0</td>\n",
       "      <td>411.0</td>\n",
       "      <td>15000000.0</td>\n",
       "      <td>71897215.0</td>\n",
       "      <td>2016.0</td>\n",
       "      <td>33000</td>\n",
       "    </tr>\n",
       "    <tr>\n",
       "      <th>3015</th>\n",
       "      <td>10 Days in a Madhouse</td>\n",
       "      <td>111.0</td>\n",
       "      <td>1000.0</td>\n",
       "      <td>1.0</td>\n",
       "      <td>12000000.0</td>\n",
       "      <td>14616.0</td>\n",
       "      <td>2015.0</td>\n",
       "      <td>26000</td>\n",
       "    </tr>\n",
       "  </tbody>\n",
       "</table>\n",
       "</div>"
      ],
      "text/plain": [
       "                 movie_title  duration  actor_1_facebook_likes  \\\n",
       "4447                #Horror      101.0                   501.0   \n",
       "3698    10 Cloverfield Lane      104.0                 14000.0   \n",
       "3015  10 Days in a Madhouse      111.0                  1000.0   \n",
       "\n",
       "      num_critic_for_reviews      budget       gross  title_year  \\\n",
       "4447                    35.0   1500000.0         NaN      2015.0   \n",
       "3698                   411.0  15000000.0  71897215.0      2016.0   \n",
       "3015                     1.0  12000000.0     14616.0      2015.0   \n",
       "\n",
       "      movie_facebook_likes  \n",
       "4447                   750  \n",
       "3698                 33000  \n",
       "3015                 26000  "
      ]
     },
     "execution_count": 41,
     "metadata": {},
     "output_type": "execute_result"
    }
   ],
   "source": [
    "# Make a subset of the dataframe with relevant features to use for our K-Nearest Neighbor \n",
    "movie_dataset = df[['movie_title', 'duration', 'actor_1_facebook_likes', 'num_critic_for_reviews','budget','gross','title_year','movie_facebook_likes']]\n",
    "\n",
    "# Make a subset of the dataframe with IMDB score \n",
    "movie_labels = df[['movie_title','imdb_score']]\n",
    "movie_labels.head(3)\n",
    "\n",
    "# Adding a new column diviging movies into bad movie (IMDB rating < 7) and good (IMDB rating >= 7)\n",
    "movie_labels['l'] = movie_labels.apply(lambda row: 1 if row['imdb_score'] >= 7 else 0, axis=1)\n",
    "\n",
    "# movie_labels.head(3)\n",
    "movie_dataset.head(3)"
   ]
  },
  {
   "cell_type": "markdown",
   "metadata": {},
   "source": [
    "## Part 2: Normalize the data"
   ]
  },
  {
   "cell_type": "code",
   "execution_count": 25,
   "metadata": {
    "scrolled": true
   },
   "outputs": [
    {
     "ename": "NameError",
     "evalue": "name 'release_dates' is not defined",
     "output_type": "error",
     "traceback": [
      "\u001b[0;31m---------------------------------------------------------------------------\u001b[0m",
      "\u001b[0;31mNameError\u001b[0m                                 Traceback (most recent call last)",
      "\u001b[0;32m<ipython-input-25-384f853e7faa>\u001b[0m in \u001b[0;36m<module>\u001b[0;34m\u001b[0m\n\u001b[1;32m      6\u001b[0m   \u001b[0;32mreturn\u001b[0m \u001b[0mnormalized\u001b[0m\u001b[0;34m\u001b[0m\u001b[0;34m\u001b[0m\u001b[0m\n\u001b[1;32m      7\u001b[0m \u001b[0;34m\u001b[0m\u001b[0m\n\u001b[0;32m----> 8\u001b[0;31m \u001b[0mprint\u001b[0m\u001b[0;34m(\u001b[0m\u001b[0mmin_max_normalize\u001b[0m\u001b[0;34m(\u001b[0m\u001b[0mrelease_dates\u001b[0m\u001b[0;34m)\u001b[0m\u001b[0;34m)\u001b[0m\u001b[0;34m\u001b[0m\u001b[0;34m\u001b[0m\u001b[0m\n\u001b[0m",
      "\u001b[0;31mNameError\u001b[0m: name 'release_dates' is not defined"
     ]
    }
   ],
   "source": [
    "# For every feature, the minimum value of that feature gets transformed into a 0, the maximum value \n",
    "# gets transformed into a 1, and every other value gets transformed into a decimal between 0 and 1.\n",
    "def min_max_normalize(lst):\n",
    "  normalized = []\n",
    "  normalized = [(l-min(lst))/(max(lst)-min(lst)) for l in lst]\n",
    "  return normalized"
   ]
  },
  {
   "cell_type": "markdown",
   "metadata": {},
   "source": [
    "## Part 3: Distance function "
   ]
  },
  {
   "cell_type": "code",
   "execution_count": 24,
   "metadata": {
    "scrolled": true
   },
   "outputs": [],
   "source": [
    "# Distance Between Points using Euclidean Distance\n",
    "def distance(movie1, movie2):\n",
    "  length_difference = 0\n",
    "  for i in range(len(movie1)):\n",
    "    length_difference += (movie1[i] - movie2[i]) ** 2\n",
    "  return length_difference ** 0.5"
   ]
  },
  {
   "cell_type": "markdown",
   "metadata": {},
   "source": [
    "## Part 4: "
   ]
  },
  {
   "cell_type": "code",
   "execution_count": null,
   "metadata": {},
   "outputs": [],
   "source": []
  }
 ],
 "metadata": {
  "kernelspec": {
   "display_name": "Python 3",
   "language": "python",
   "name": "python3"
  },
  "language_info": {
   "codemirror_mode": {
    "name": "ipython",
    "version": 3
   },
   "file_extension": ".py",
   "mimetype": "text/x-python",
   "name": "python",
   "nbconvert_exporter": "python",
   "pygments_lexer": "ipython3",
   "version": "3.7.1"
  }
 },
 "nbformat": 4,
 "nbformat_minor": 2
}
