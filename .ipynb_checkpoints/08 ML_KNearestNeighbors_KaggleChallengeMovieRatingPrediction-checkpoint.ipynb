{
 "cells": [
  {
   "cell_type": "markdown",
   "metadata": {},
   "source": [
    "# Project: Kaggle Challenge Movie Rating Prediction \n",
    "In this project, we write a K-Nearest Neighbor algorithm to predict IMDB rating of movies. We use a dataset Kaggle that contains 28 variables for 5043 movies, spanning across 100 years in 66 countries. \n",
    "We write our K-Nearest Neighbor algorithm from scratch without using built-in libraries.\n",
    "We’ll implement the three steps of the K-Nearest Neighbor Algorithm:\n",
    "- Normalize the data\n",
    "- Find the k nearest neighbors\n",
    "- Classify the new point based on those neighbors"
   ]
  },
  {
   "cell_type": "code",
   "execution_count": 27,
   "metadata": {},
   "outputs": [],
   "source": [
    "import pandas as pd"
   ]
  },
  {
   "cell_type": "markdown",
   "metadata": {},
   "source": [
    "## Part 1: Load and clean the data"
   ]
  },
  {
   "cell_type": "code",
   "execution_count": 148,
   "metadata": {
    "scrolled": true
   },
   "outputs": [
    {
     "data": {
      "text/html": [
       "<div>\n",
       "<style scoped>\n",
       "    .dataframe tbody tr th:only-of-type {\n",
       "        vertical-align: middle;\n",
       "    }\n",
       "\n",
       "    .dataframe tbody tr th {\n",
       "        vertical-align: top;\n",
       "    }\n",
       "\n",
       "    .dataframe thead th {\n",
       "        text-align: right;\n",
       "    }\n",
       "</style>\n",
       "<table border=\"1\" class=\"dataframe\">\n",
       "  <thead>\n",
       "    <tr style=\"text-align: right;\">\n",
       "      <th></th>\n",
       "      <th>color</th>\n",
       "      <th>director_name</th>\n",
       "      <th>num_critic_for_reviews</th>\n",
       "      <th>duration</th>\n",
       "      <th>director_facebook_likes</th>\n",
       "      <th>actor_3_facebook_likes</th>\n",
       "      <th>actor_2_name</th>\n",
       "      <th>actor_1_facebook_likes</th>\n",
       "      <th>gross</th>\n",
       "      <th>genres</th>\n",
       "      <th>...</th>\n",
       "      <th>num_user_for_reviews</th>\n",
       "      <th>language</th>\n",
       "      <th>country</th>\n",
       "      <th>content_rating</th>\n",
       "      <th>budget</th>\n",
       "      <th>title_year</th>\n",
       "      <th>actor_2_facebook_likes</th>\n",
       "      <th>imdb_score</th>\n",
       "      <th>aspect_ratio</th>\n",
       "      <th>movie_facebook_likes</th>\n",
       "    </tr>\n",
       "  </thead>\n",
       "  <tbody>\n",
       "    <tr>\n",
       "      <th>4447</th>\n",
       "      <td>Color</td>\n",
       "      <td>Tara Subkoff</td>\n",
       "      <td>35.0</td>\n",
       "      <td>101.0</td>\n",
       "      <td>37.0</td>\n",
       "      <td>56.0</td>\n",
       "      <td>Balthazar Getty</td>\n",
       "      <td>501.0</td>\n",
       "      <td>NaN</td>\n",
       "      <td>Drama|Horror|Mystery|Thriller</td>\n",
       "      <td>...</td>\n",
       "      <td>42.0</td>\n",
       "      <td>English</td>\n",
       "      <td>USA</td>\n",
       "      <td>Not Rated</td>\n",
       "      <td>1500000.0</td>\n",
       "      <td>2015.0</td>\n",
       "      <td>418.0</td>\n",
       "      <td>3.3</td>\n",
       "      <td>NaN</td>\n",
       "      <td>750</td>\n",
       "    </tr>\n",
       "    <tr>\n",
       "      <th>3698</th>\n",
       "      <td>Color</td>\n",
       "      <td>Dan Trachtenberg</td>\n",
       "      <td>411.0</td>\n",
       "      <td>104.0</td>\n",
       "      <td>16.0</td>\n",
       "      <td>82.0</td>\n",
       "      <td>John Gallagher Jr.</td>\n",
       "      <td>14000.0</td>\n",
       "      <td>71897215.0</td>\n",
       "      <td>Drama|Horror|Mystery|Sci-Fi|Thriller</td>\n",
       "      <td>...</td>\n",
       "      <td>440.0</td>\n",
       "      <td>English</td>\n",
       "      <td>USA</td>\n",
       "      <td>PG-13</td>\n",
       "      <td>15000000.0</td>\n",
       "      <td>2016.0</td>\n",
       "      <td>338.0</td>\n",
       "      <td>7.3</td>\n",
       "      <td>2.35</td>\n",
       "      <td>33000</td>\n",
       "    </tr>\n",
       "    <tr>\n",
       "      <th>3015</th>\n",
       "      <td>Color</td>\n",
       "      <td>Timothy Hines</td>\n",
       "      <td>1.0</td>\n",
       "      <td>111.0</td>\n",
       "      <td>0.0</td>\n",
       "      <td>247.0</td>\n",
       "      <td>Kelly LeBrock</td>\n",
       "      <td>1000.0</td>\n",
       "      <td>14616.0</td>\n",
       "      <td>Drama</td>\n",
       "      <td>...</td>\n",
       "      <td>10.0</td>\n",
       "      <td>English</td>\n",
       "      <td>USA</td>\n",
       "      <td>R</td>\n",
       "      <td>12000000.0</td>\n",
       "      <td>2015.0</td>\n",
       "      <td>445.0</td>\n",
       "      <td>7.5</td>\n",
       "      <td>1.85</td>\n",
       "      <td>26000</td>\n",
       "    </tr>\n",
       "  </tbody>\n",
       "</table>\n",
       "<p>3 rows × 28 columns</p>\n",
       "</div>"
      ],
      "text/plain": [
       "      color     director_name  num_critic_for_reviews  duration  \\\n",
       "4447  Color      Tara Subkoff                    35.0     101.0   \n",
       "3698  Color  Dan Trachtenberg                   411.0     104.0   \n",
       "3015  Color     Timothy Hines                     1.0     111.0   \n",
       "\n",
       "      director_facebook_likes  actor_3_facebook_likes        actor_2_name  \\\n",
       "4447                     37.0                    56.0     Balthazar Getty   \n",
       "3698                     16.0                    82.0  John Gallagher Jr.   \n",
       "3015                      0.0                   247.0       Kelly LeBrock   \n",
       "\n",
       "      actor_1_facebook_likes       gross  \\\n",
       "4447                   501.0         NaN   \n",
       "3698                 14000.0  71897215.0   \n",
       "3015                  1000.0     14616.0   \n",
       "\n",
       "                                    genres         ...           \\\n",
       "4447         Drama|Horror|Mystery|Thriller         ...            \n",
       "3698  Drama|Horror|Mystery|Sci-Fi|Thriller         ...            \n",
       "3015                                 Drama         ...            \n",
       "\n",
       "     num_user_for_reviews language  country  content_rating      budget  \\\n",
       "4447                 42.0  English      USA       Not Rated   1500000.0   \n",
       "3698                440.0  English      USA           PG-13  15000000.0   \n",
       "3015                 10.0  English      USA               R  12000000.0   \n",
       "\n",
       "      title_year actor_2_facebook_likes imdb_score  aspect_ratio  \\\n",
       "4447      2015.0                  418.0        3.3           NaN   \n",
       "3698      2016.0                  338.0        7.3          2.35   \n",
       "3015      2015.0                  445.0        7.5          1.85   \n",
       "\n",
       "     movie_facebook_likes  \n",
       "4447                  750  \n",
       "3698                33000  \n",
       "3015                26000  \n",
       "\n",
       "[3 rows x 28 columns]"
      ]
     },
     "execution_count": 148,
     "metadata": {},
     "output_type": "execute_result"
    }
   ],
   "source": [
    "# https://www.kaggle.com/carolzhangdc/predict-imdb-score-with-data-mining-algorithms\n",
    "# The dataset is from Kaggle website. It contains 28 variables for 5043 movies, spanning across 100 years in 66 countries. \n",
    "df = pd.read_csv('08 ML_KNearestNeighbors_KaggleChallengeMovieRatingPredictionDataset.csv')\n",
    "\n",
    "# sorting by movie name \n",
    "df.sort_values(\"movie_title\", inplace = True) \n",
    "\n",
    "# dropping ALL duplicte values \n",
    "df.drop_duplicates(subset =\"movie_title\", keep = False, inplace = True) \n",
    "\n",
    "df.head(3)\n"
   ]
  },
  {
   "cell_type": "markdown",
   "metadata": {},
   "source": [
    "## Part 2: Restructure and clean the data"
   ]
  },
  {
   "cell_type": "code",
   "execution_count": 154,
   "metadata": {},
   "outputs": [
    {
     "data": {
      "text/plain": [
       "False"
      ]
     },
     "execution_count": 154,
     "metadata": {},
     "output_type": "execute_result"
    }
   ],
   "source": [
    "# Make a movie dataset as a subset of the dataframe with relevant features to use for our K-Nearest Neighbor \n",
    "md = df[['movie_title', 'duration', 'actor_1_facebook_likes', 'num_critic_for_reviews','budget','gross','title_year','movie_facebook_likes']]\n",
    "\n",
    "# check NaN values and replace them with 0 (becuase we can't make average on NaN)\n",
    "md.isna().any()\n",
    "md.fillna({'duration':0,'actor_1_facebook_likes':0, 'num_critic_for_reviews':0, 'budget':0, 'gross':0,'title_year':0,'movie_facebook_likes':0}, inplace=True)\n",
    "\n",
    "# replace all zero values with the average of the column\n",
    "md.loc[md.duration == 0] = md['duration'].mean()\n",
    "md.loc[md.actor_1_facebook_likes == 0] = md['actor_1_facebook_likes'].mean()\n",
    "md.loc[md.num_critic_for_reviews == 0] = md['num_critic_for_reviews'].mean()\n",
    "md.loc[md.budget == 0] = md['budget'].mean()\n",
    "md.loc[md.gross == 0] = md['gross'].mean()\n",
    "md.loc[md.title_year == 0] = md['title_year'].mean()\n",
    "md.loc[md.movie_facebook_likes == 0] = md['movie_facebook_likes'].mean()\n",
    "# check any 0 value \n",
    "md.isin([0]).any().any()\n",
    "# check any NaN value\n",
    "md.isna().any()"
   ]
  },
  {
   "cell_type": "code",
   "execution_count": 157,
   "metadata": {},
   "outputs": [
    {
     "data": {
      "text/plain": [
       "movie_title    False\n",
       "imdb_score     False\n",
       "l              False\n",
       "dtype: bool"
      ]
     },
     "execution_count": 157,
     "metadata": {},
     "output_type": "execute_result"
    }
   ],
   "source": [
    "# Make a subset of the dataframe with IMDB score \n",
    "mls = df[['movie_title','imdb_score']]\n",
    "mls.head(3)\n",
    "\n",
    "# Adding a new column diviging movies into bad movie (IMDB rating < 7) and good (IMDB rating >= 7)\n",
    "mls['l'] = mls.apply(lambda row: 1 if row['imdb_score'] >= 7 else 0, axis=1)\n",
    "mls.head(3)\n",
    "\n",
    "# check any 0 value \n",
    "mls.isin([0]).any().any()\n",
    "# check any NaN value\n",
    "mls.isna().any()"
   ]
  },
  {
   "cell_type": "markdown",
   "metadata": {},
   "source": [
    "## Part 2: Normalize the data"
   ]
  },
  {
   "cell_type": "code",
   "execution_count": 25,
   "metadata": {
    "scrolled": true
   },
   "outputs": [
    {
     "ename": "NameError",
     "evalue": "name 'release_dates' is not defined",
     "output_type": "error",
     "traceback": [
      "\u001b[0;31m---------------------------------------------------------------------------\u001b[0m",
      "\u001b[0;31mNameError\u001b[0m                                 Traceback (most recent call last)",
      "\u001b[0;32m<ipython-input-25-384f853e7faa>\u001b[0m in \u001b[0;36m<module>\u001b[0;34m\u001b[0m\n\u001b[1;32m      6\u001b[0m   \u001b[0;32mreturn\u001b[0m \u001b[0mnormalized\u001b[0m\u001b[0;34m\u001b[0m\u001b[0;34m\u001b[0m\u001b[0m\n\u001b[1;32m      7\u001b[0m \u001b[0;34m\u001b[0m\u001b[0m\n\u001b[0;32m----> 8\u001b[0;31m \u001b[0mprint\u001b[0m\u001b[0;34m(\u001b[0m\u001b[0mmin_max_normalize\u001b[0m\u001b[0;34m(\u001b[0m\u001b[0mrelease_dates\u001b[0m\u001b[0;34m)\u001b[0m\u001b[0;34m)\u001b[0m\u001b[0;34m\u001b[0m\u001b[0;34m\u001b[0m\u001b[0m\n\u001b[0m",
      "\u001b[0;31mNameError\u001b[0m: name 'release_dates' is not defined"
     ]
    }
   ],
   "source": [
    "# For every feature, the minimum value of that feature gets transformed into a 0, the maximum value \n",
    "# gets transformed into a 1, and every other value gets transformed into a decimal between 0 and 1.\n",
    "def min_max_normalize(lst):\n",
    "  normalized = []\n",
    "  normalized = [(l-min(lst))/(max(lst)-min(lst)) for l in lst]\n",
    "  return normalized"
   ]
  },
  {
   "cell_type": "markdown",
   "metadata": {},
   "source": [
    "## Part 3: Distance function "
   ]
  },
  {
   "cell_type": "code",
   "execution_count": 24,
   "metadata": {
    "scrolled": true
   },
   "outputs": [],
   "source": [
    "# Distance Between Points using Euclidean Distance\n",
    "def distance(movie1, movie2):\n",
    "  length_difference = 0\n",
    "  for i in range(len(movie1)):\n",
    "    length_difference += (movie1[i] - movie2[i]) ** 2\n",
    "  return length_difference ** 0.5"
   ]
  },
  {
   "cell_type": "markdown",
   "metadata": {},
   "source": [
    "## Part 4: "
   ]
  },
  {
   "cell_type": "code",
   "execution_count": null,
   "metadata": {},
   "outputs": [],
   "source": []
  }
 ],
 "metadata": {
  "kernelspec": {
   "display_name": "Python 3",
   "language": "python",
   "name": "python3"
  },
  "language_info": {
   "codemirror_mode": {
    "name": "ipython",
    "version": 3
   },
   "file_extension": ".py",
   "mimetype": "text/x-python",
   "name": "python",
   "nbconvert_exporter": "python",
   "pygments_lexer": "ipython3",
   "version": "3.7.1"
  }
 },
 "nbformat": 4,
 "nbformat_minor": 2
}
