{
 "cells": [
  {
   "cell_type": "markdown",
   "metadata": {},
   "source": [
    "# Project: Handwriting Recognition using K-Means\n",
    "\n",
    "In this project, we implement a handwrting algorithm using K-Means algorithm. We use Digits dataset from Sklearn dataset library."
   ]
  },
  {
   "cell_type": "markdown",
   "metadata": {},
   "source": [
    "## Part 1: Load and Inspect the data"
   ]
  },
  {
   "cell_type": "code",
   "execution_count": 2,
   "metadata": {},
   "outputs": [],
   "source": [
    "import numpy as np"
   ]
  },
  {
   "cell_type": "code",
   "execution_count": 1,
   "metadata": {},
   "outputs": [],
   "source": [
    "# load the dataset\n",
    "from sklearn import datasets\n",
    "digits = datasets.load_digits()"
   ]
  },
  {
   "cell_type": "markdown",
   "metadata": {},
   "source": [
    "## Part 2: Place random centroids \n",
    "\n",
    "The goal of clustering is to separate data so that data similar to one another are in the same group, \n",
    "while data different from one another are in different groups. So two questions arise:\n",
    "\n",
    "- How many groups do we choose?\n",
    "- How do we define similarity?\n",
    "\n",
    "*K-Means* is the most popular and well-known clustering algorithm, and it tries to address these two questions.\n",
    "\n",
    "- The “K” refers to the number of clusters (groups) we expect to find in a dataset.\n",
    "- The “Means” refers to the average distance of data to each cluster center, also known as the centroid, \n",
    "which we are trying to minimize"
   ]
  },
  {
   "cell_type": "markdown",
   "metadata": {},
   "source": [
    "## Part 3: Assign data samples to the nearest centroid and update it"
   ]
  },
  {
   "cell_type": "markdown",
   "metadata": {},
   "source": [
    "## Part 4: Validation"
   ]
  }
 ],
 "metadata": {
  "kernelspec": {
   "display_name": "Python 3",
   "language": "python",
   "name": "python3"
  },
  "language_info": {
   "codemirror_mode": {
    "name": "ipython",
    "version": 3
   },
   "file_extension": ".py",
   "mimetype": "text/x-python",
   "name": "python",
   "nbconvert_exporter": "python",
   "pygments_lexer": "ipython3",
   "version": "3.7.3"
  }
 },
 "nbformat": 4,
 "nbformat_minor": 2
}
